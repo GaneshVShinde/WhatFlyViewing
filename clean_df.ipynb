{
 "cells": [
  {
   "cell_type": "code",
   "execution_count": 2,
   "metadata": {},
   "outputs": [],
   "source": [
    "import pandas as pd\n",
    "import matplotlib.pyplot as plt\n",
    "import numpy as np"
   ]
  },
  {
   "cell_type": "code",
   "execution_count": 3,
   "metadata": {},
   "outputs": [],
   "source": [
    "df= pd.read_hdf(\"all_wind.h5\")"
   ]
  },
  {
   "cell_type": "code",
   "execution_count": 3,
   "metadata": {},
   "outputs": [
    {
     "name": "stdout",
     "output_type": "stream",
     "text": [
      "trajectory__boutFrame\n",
      "trajectory__compensation\n",
      "trajectory__gain\n",
      "trajectory__impose\n",
      "trajectory__imposeHeading\n",
      "trajectory__imposeResponse\n",
      "trajectory__imposeResponseHeading\n",
      "trajectory__imposeResponseSmooth\n",
      "trajectory__key\n",
      "trajectory__o1Pos_x\n",
      "trajectory__o1Pos_y\n",
      "trajectory__o1Pos_z\n",
      "trajectory__o2Pos_x\n",
      "trajectory__o2Pos_y\n",
      "trajectory__o2Pos_z\n",
      "trajectory__pOri_y\n",
      "trajectory__pOri_z\n",
      "trajectory__packetDuration\n",
      "trajectory__packetFrequency\n",
      "trajectory__pfStimState\n",
      "trajectory__quadrant\n",
      "trajectory__speedControl\n",
      "trajectory__valve1\n",
      "trajectory__valve2\n",
      "trajectory__valve3\n"
     ]
    }
   ],
   "source": [
    "def remove_unnecessary_coulumns():\n",
    "    global df\n",
    "    for nam in df.columns:\n",
    "        if len(df[nam].unique()) == 1 :\n",
    "            print(nam)\n",
    "            df.drop([nam],axis=1,inplace=True)\n",
    "remove_unnecessary_coulumns()"
   ]
  },
  {
   "cell_type": "code",
   "execution_count": 4,
   "metadata": {},
   "outputs": [],
   "source": [
    "files = df.timeStamp.unique()"
   ]
  },
  {
   "cell_type": "code",
   "execution_count": 5,
   "metadata": {},
   "outputs": [
    {
     "data": {
      "text/plain": [
       "Index(['trajectory__DCoffset', 'trajectory__case', 'trajectory__groundSpeed',\n",
       "       'trajectory__headingControl', 'trajectory__isFlying',\n",
       "       'trajectory__pOri_x', 'trajectory__pPos_x', 'trajectory__pPos_y',\n",
       "       'trajectory__pPos_z', 'trajectory__reset', 'trajectory__runNum',\n",
       "       'trajectory__servoAngle', 'trajectory__slip', 'trajectory__speed',\n",
       "       'trajectory__trial', 'trajectory__wbad', 'trajectory__wbas',\n",
       "       'windPressure', 'visual', 'flowSource', 'timeStamp'],\n",
       "      dtype='object')"
      ]
     },
     "execution_count": 5,
     "metadata": {},
     "output_type": "execute_result"
    }
   ],
   "source": [
    "df.columns"
   ]
  },
  {
   "cell_type": "code",
   "execution_count": 38,
   "metadata": {},
   "outputs": [],
   "source": [
    "delete_index=[]\n",
    "for file in files:\n",
    "    runs=df[df.timeStamp==file].trajectory__runNum.unique()\n",
    "    for run in runs:\n",
    "        case_=df[(df.timeStamp==file) & (df.trajectory__runNum==run)].trajectory__case.unique()\n",
    "        #print(run,case_)\n",
    "        for c in case_:\n",
    "            delete_index.extend(df[(df.timeStamp==file) & (df.trajectory__runNum==run) & (df.trajectory__case==c)].index.values[:80])\n",
    "            #print(\"F:\",file,\"_\",\"R:\",run,\"_\",\"C:\",c,\"_\",\"S:\",s)"
   ]
  },
  {
   "cell_type": "code",
   "execution_count": 18,
   "metadata": {},
   "outputs": [
    {
     "data": {
      "text/plain": [
       "array([0., 1.])"
      ]
     },
     "execution_count": 18,
     "metadata": {},
     "output_type": "execute_result"
    }
   ],
   "source": [
    "df[(df.timeStamp==file) & (df.trajectory__runNum==6)].trajectory__case.unique()"
   ]
  },
  {
   "cell_type": "code",
   "execution_count": 40,
   "metadata": {},
   "outputs": [
    {
     "data": {
      "text/plain": [
       "[<matplotlib.lines.Line2D at 0x7fbd0d8b82e8>]"
      ]
     },
     "execution_count": 40,
     "metadata": {},
     "output_type": "execute_result"
    },
    {
     "data": {
      "image/png": "[encoded data removed]",
      "text/plain": [
       "<Figure size 432x288 with 1 Axes>"
      ]
     },
     "metadata": {},
     "output_type": "display_data"
    }
   ],
   "source": [
    "plt.plot(df.loc[delete_index,\"trajectory__pPos_x\"])"
   ]
  },
  {
   "cell_type": "code",
   "execution_count": 41,
   "metadata": {},
   "outputs": [
    {
     "data": {
      "text/plain": [
       "[<matplotlib.lines.Line2D at 0x7fbd0d806b38>]"
      ]
     },
     "execution_count": 41,
     "metadata": {},
     "output_type": "execute_result"
    },
    {
     "data": {
      "image/png": "[encoded data removed]",
      "text/plain": [
       "<Figure size 432x288 with 1 Axes>"
      ]
     },
     "metadata": {},
     "output_type": "display_data"
    }
   ],
   "source": [
    "plt.plot(df.loc[delete_index,\"trajectory__pPos_y\"])"
   ]
  },
  {
   "cell_type": "code",
   "execution_count": 42,
   "metadata": {},
   "outputs": [],
   "source": [
    "df.drop(index=delete_index,inplace=True)"
   ]
  },
  {
   "cell_type": "code",
   "execution_count": 44,
   "metadata": {},
   "outputs": [],
   "source": [
    "df.to_hdf(\"all_wind_clean.h5\",\"df\")"
   ]
  },
  {
   "cell_type": "code",
   "execution_count": 46,
   "metadata": {},
   "outputs": [],
   "source": [
    "df2=pd.read_hdf(\"all_wind_clean.h5\")"
   ]
  },
  {
   "cell_type": "code",
   "execution_count": 47,
   "metadata": {},
   "outputs": [
    {
     "data": {
      "text/plain": [
       "(2730514, 21)"
      ]
     },
     "execution_count": 47,
     "metadata": {},
     "output_type": "execute_result"
    }
   ],
   "source": [
    "df2.shape"
   ]
  },
  {
   "cell_type": "code",
   "execution_count": 4,
   "metadata": {},
   "outputs": [
    {
     "data": {
      "text/plain": [
       "(2823474, 46)"
      ]
     },
     "execution_count": 4,
     "metadata": {},
     "output_type": "execute_result"
    }
   ],
   "source": [
    "df.shape"
   ]
  },
  {
   "cell_type": "code",
   "execution_count": null,
   "metadata": {},
   "outputs": [],
   "source": []
  }
 ],
 "metadata": {
  "kernelspec": {
   "display_name": "Python 3",
   "language": "python",
   "name": "python3"
  },
  "language_info": {
   "codemirror_mode": {
    "name": "ipython",
    "version": 3
   },
   "file_extension": ".py",
   "mimetype": "text/x-python",
   "name": "python",
   "nbconvert_exporter": "python",
   "pygments_lexer": "ipython3",
   "version": "3.6.5"
  }
 },
 "nbformat": 4,
 "nbformat_minor": 2
}

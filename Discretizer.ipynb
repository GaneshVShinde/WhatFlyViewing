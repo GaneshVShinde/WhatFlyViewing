{
 "cells": [
  {
   "cell_type": "code",
   "execution_count": 7,
   "metadata": {},
   "outputs": [],
   "source": [
    "import matplotlib.pyplot as plt\n",
    "import numpy as np\n",
    "import pandas as pd\n",
    "%matplotlib ipympl\n",
    "# %matplotlib"
   ]
  },
  {
   "cell_type": "code",
   "execution_count": 8,
   "metadata": {},
   "outputs": [],
   "source": [
    "def trajGen(orientations,start_point=(513,513),init_ori=0,step=1/165.):\n",
    "    '''\n",
    "    get_trajectories_from_orientations\n",
    "    \n",
    "    orientations : array to generate trajectory from\n",
    "    start point, tuple of xy start cordinate\n",
    "    step : size of stem\n",
    "    \n",
    "    '''\n",
    "    x = start_point[0]\n",
    "    y = start_point[1]\n",
    "    xl=[x]\n",
    "    yl=[y]\n",
    "    os=orientations[0]\n",
    "    for ori in orientations:\n",
    "        x = x - step*np.sin(np.pi*(-os+init_ori+ori)/180)\n",
    "        y = y + step*np.cos(np.pi*(-os+init_ori+ori)/180)\n",
    "        xl.append(x)\n",
    "        yl.append(y)\n",
    "    return(xl,yl)"
   ]
  },
  {
   "cell_type": "code",
   "execution_count": 23,
   "metadata": {},
   "outputs": [],
   "source": [
    "def transition_matrix(transitions):\n",
    "    n = 1+ max(transitions) #number of states\n",
    "\n",
    "    M = [[0]*n for _ in range(n)]\n",
    "\n",
    "    for (i,j) in zip(transitions,transitions[1:]):\n",
    "        M[i][j] += 1\n",
    "\n",
    "    #now convert to probabilities:\n",
    "    for row in M:\n",
    "        s = sum(row)\n",
    "        if s > 0:\n",
    "            row[:] = [f/s for f in row]\n",
    "    return M"
   ]
  },
  {
   "cell_type": "code",
   "execution_count": 3,
   "metadata": {},
   "outputs": [],
   "source": [
    "dfl=pd.read_hdf(\"all_wind_clean.h5\")\n",
    "files = dfl.timeStamp.unique()\n",
    "df=dfl[(dfl.timeStamp ==files[2])]\n"
   ]
  },
  {
   "cell_type": "code",
   "execution_count": 61,
   "metadata": {},
   "outputs": [],
   "source": [
    "win=40\n",
    "dff=df[(df.trajectory__runNum==2) & (df.trajectory__case==2) & (df.trajectory__speed>0)]\n",
    "wbad=dff.trajectory__wbad\n",
    "wbadr=wbad.rolling(win).mean().dropna()\n",
    "\n",
    "# ori=dff.trajectory__pOri_x"
   ]
  },
  {
   "cell_type": "code",
   "execution_count": 78,
   "metadata": {},
   "outputs": [],
   "source": [
    "ws,wsb=pd.qcut(wbadr,3,retbins=True,labels=False)\n",
    "binC=pd.DataFrame(wsb).rolling(2).mean().dropna().values.T[0]\n",
    "wsd=pd.DataFrame(ws)\n",
    "wsd['wsim']=binC[wsd['trajectory__wbad']]\n",
    "wsim=wsd['wsim']"
   ]
  },
  {
   "cell_type": "code",
   "execution_count": 82,
   "metadata": {},
   "outputs": [],
   "source": [
    "s=''.join(wsd['trajectory__wbad'].astype(str).values)\n",
    "s2=np.array(list(map(''.join, zip(*[iter(s)]*3)))).astype(int)\n"
   ]
  },
  {
   "cell_type": "code",
   "execution_count": 81,
   "metadata": {},
   "outputs": [
    {
     "ename": "MemoryError",
     "evalue": "",
     "output_type": "error",
     "traceback": [
      "\u001b[0;31m---------------------------------------------------------------------------\u001b[0m",
      "\u001b[0;31mMemoryError\u001b[0m                               Traceback (most recent call last)",
      "\u001b[0;32m<ipython-input-81-1dceaa66e255>\u001b[0m in \u001b[0;36m<module>\u001b[0;34m()\u001b[0m\n\u001b[0;32m----> 1\u001b[0;31m \u001b[0mnp\u001b[0m\u001b[0;34m.\u001b[0m\u001b[0marray\u001b[0m\u001b[0;34m(\u001b[0m\u001b[0mtransition_matrix\u001b[0m\u001b[0;34m(\u001b[0m\u001b[0ms2\u001b[0m\u001b[0;34m)\u001b[0m\u001b[0;34m)\u001b[0m\u001b[0;34m\u001b[0m\u001b[0m\n\u001b[0m",
      "\u001b[0;32m<ipython-input-23-6bd5460714fb>\u001b[0m in \u001b[0;36mtransition_matrix\u001b[0;34m(transitions)\u001b[0m\n\u001b[1;32m      2\u001b[0m     \u001b[0mn\u001b[0m \u001b[0;34m=\u001b[0m \u001b[0;36m1\u001b[0m\u001b[0;34m+\u001b[0m \u001b[0mmax\u001b[0m\u001b[0;34m(\u001b[0m\u001b[0mtransitions\u001b[0m\u001b[0;34m)\u001b[0m \u001b[0;31m#number of states\u001b[0m\u001b[0;34m\u001b[0m\u001b[0m\n\u001b[1;32m      3\u001b[0m \u001b[0;34m\u001b[0m\u001b[0m\n\u001b[0;32m----> 4\u001b[0;31m     \u001b[0mM\u001b[0m \u001b[0;34m=\u001b[0m \u001b[0;34m[\u001b[0m\u001b[0;34m[\u001b[0m\u001b[0;36m0\u001b[0m\u001b[0;34m]\u001b[0m\u001b[0;34m*\u001b[0m\u001b[0mn\u001b[0m \u001b[0;32mfor\u001b[0m \u001b[0m_\u001b[0m \u001b[0;32min\u001b[0m \u001b[0mrange\u001b[0m\u001b[0;34m(\u001b[0m\u001b[0mn\u001b[0m\u001b[0;34m)\u001b[0m\u001b[0;34m]\u001b[0m\u001b[0;34m\u001b[0m\u001b[0m\n\u001b[0m\u001b[1;32m      5\u001b[0m \u001b[0;34m\u001b[0m\u001b[0m\n\u001b[1;32m      6\u001b[0m     \u001b[0;32mfor\u001b[0m \u001b[0;34m(\u001b[0m\u001b[0mi\u001b[0m\u001b[0;34m,\u001b[0m\u001b[0mj\u001b[0m\u001b[0;34m)\u001b[0m \u001b[0;32min\u001b[0m \u001b[0mzip\u001b[0m\u001b[0;34m(\u001b[0m\u001b[0mtransitions\u001b[0m\u001b[0;34m,\u001b[0m\u001b[0mtransitions\u001b[0m\u001b[0;34m[\u001b[0m\u001b[0;36m1\u001b[0m\u001b[0;34m:\u001b[0m\u001b[0;34m]\u001b[0m\u001b[0;34m)\u001b[0m\u001b[0;34m:\u001b[0m\u001b[0;34m\u001b[0m\u001b[0m\n",
      "\u001b[0;32m<ipython-input-23-6bd5460714fb>\u001b[0m in \u001b[0;36m<listcomp>\u001b[0;34m(.0)\u001b[0m\n\u001b[1;32m      2\u001b[0m     \u001b[0mn\u001b[0m \u001b[0;34m=\u001b[0m \u001b[0;36m1\u001b[0m\u001b[0;34m+\u001b[0m \u001b[0mmax\u001b[0m\u001b[0;34m(\u001b[0m\u001b[0mtransitions\u001b[0m\u001b[0;34m)\u001b[0m \u001b[0;31m#number of states\u001b[0m\u001b[0;34m\u001b[0m\u001b[0m\n\u001b[1;32m      3\u001b[0m \u001b[0;34m\u001b[0m\u001b[0m\n\u001b[0;32m----> 4\u001b[0;31m     \u001b[0mM\u001b[0m \u001b[0;34m=\u001b[0m \u001b[0;34m[\u001b[0m\u001b[0;34m[\u001b[0m\u001b[0;36m0\u001b[0m\u001b[0;34m]\u001b[0m\u001b[0;34m*\u001b[0m\u001b[0mn\u001b[0m \u001b[0;32mfor\u001b[0m \u001b[0m_\u001b[0m \u001b[0;32min\u001b[0m \u001b[0mrange\u001b[0m\u001b[0;34m(\u001b[0m\u001b[0mn\u001b[0m\u001b[0;34m)\u001b[0m\u001b[0;34m]\u001b[0m\u001b[0;34m\u001b[0m\u001b[0m\n\u001b[0m\u001b[1;32m      5\u001b[0m \u001b[0;34m\u001b[0m\u001b[0m\n\u001b[1;32m      6\u001b[0m     \u001b[0;32mfor\u001b[0m \u001b[0;34m(\u001b[0m\u001b[0mi\u001b[0m\u001b[0;34m,\u001b[0m\u001b[0mj\u001b[0m\u001b[0;34m)\u001b[0m \u001b[0;32min\u001b[0m \u001b[0mzip\u001b[0m\u001b[0;34m(\u001b[0m\u001b[0mtransitions\u001b[0m\u001b[0;34m,\u001b[0m\u001b[0mtransitions\u001b[0m\u001b[0;34m[\u001b[0m\u001b[0;36m1\u001b[0m\u001b[0;34m:\u001b[0m\u001b[0;34m]\u001b[0m\u001b[0;34m)\u001b[0m\u001b[0;34m:\u001b[0m\u001b[0;34m\u001b[0m\u001b[0m\n",
      "\u001b[0;31mMemoryError\u001b[0m: "
     ]
    }
   ],
   "source": [
    "np.array(transition_matrix(s2))"
   ]
  },
  {
   "cell_type": "code",
   "execution_count": 83,
   "metadata": {},
   "outputs": [
    {
     "name": "stderr",
     "output_type": "stream",
     "text": [
      "/home/lsr/anaconda3/lib/python3.6/site-packages/matplotlib/pyplot.py:537: RuntimeWarning: More than 20 figures have been opened. Figures created through the pyplot interface (`matplotlib.pyplot.figure`) are retained until explicitly closed and may consume too much memory. (To control this warning, see the rcParam `figure.max_open_warning`).\n",
      "  max_open_warning, RuntimeWarning)\n"
     ]
    },
    {
     "data": {
      "application/vnd.jupyter.widget-view+json": {
       "model_id": "80a9778eff844ad9a1530930b6e97535",
       "version_major": 2,
       "version_minor": 0
      },
      "text/plain": [
       "FigureCanvasNbAgg()"
      ]
     },
     "metadata": {},
     "output_type": "display_data"
    },
    {
     "data": {
      "text/plain": [
       "<matplotlib.colorbar.Colorbar at 0x7f3bca50bba8>"
      ]
     },
     "execution_count": 83,
     "metadata": {},
     "output_type": "execute_result"
    }
   ],
   "source": [
    "plt.figure()\n",
    "plt.imshow(transition_matrix(s2))\n",
    "# plt.imshow(transition_matrix(wsd['trajectory__wbad'].values))\n",
    "# \n",
    "plt.colorbar()"
   ]
  },
  {
   "cell_type": "code",
   "execution_count": 51,
   "metadata": {},
   "outputs": [],
   "source": []
  },
  {
   "cell_type": "code",
   "execution_count": 31,
   "metadata": {
    "scrolled": false
   },
   "outputs": [
    {
     "data": {
      "application/vnd.jupyter.widget-view+json": {
       "model_id": "17d5092d6de34e97bcbe80bc4c02d0ea",
       "version_major": 2,
       "version_minor": 0
      },
      "text/plain": [
       "FigureCanvasNbAgg()"
      ]
     },
     "metadata": {},
     "output_type": "display_data"
    },
    {
     "data": {
      "application/vnd.jupyter.widget-view+json": {
       "model_id": "79d12124161742598b3d3debfe3830b5",
       "version_major": 2,
       "version_minor": 0
      },
      "text/plain": [
       "FigureCanvasNbAgg()"
      ]
     },
     "metadata": {},
     "output_type": "display_data"
    },
    {
     "data": {
      "application/vnd.jupyter.widget-view+json": {
       "model_id": "01fc2f0085dc4ae594ed4ebfe1399c4c",
       "version_major": 2,
       "version_minor": 0
      },
      "text/plain": [
       "FigureCanvasNbAgg()"
      ]
     },
     "metadata": {},
     "output_type": "display_data"
    },
    {
     "name": "stderr",
     "output_type": "stream",
     "text": [
      "/home/lsr/anaconda3/lib/python3.6/site-packages/matplotlib/cbook/deprecation.py:107: MatplotlibDeprecationWarning: Adding an axes using the same arguments as a previous axes currently reuses the earlier instance.  In a future version, a new instance will always be created and returned.  Meanwhile, this warning can be suppressed, and the future behavior ensured, by passing a unique label to each axes instance.\n",
      "  warnings.warn(message, mplDeprecation, stacklevel=1)\n"
     ]
    }
   ],
   "source": [
    "wbadrc=wbadr.cumsum()\n",
    "wbadc=wbad.cumsum()[win-1:]\n",
    "wsimc=wsim.cumsum()\n",
    "wsimc8=-8*wsimc\n",
    "\n",
    "x = np.arange(len(wbadc))/165.\n",
    "xc= np.arange(len(wsimc))/165.\n",
    "\n",
    "\n",
    "plt.figure()#smooth vs sim wbad\n",
    "plt.plot(np.arange(len(wbadr))/165.,wbadr.values,label='actual wbad')#smooth wbad\n",
    "plt.plot(np.arange(len(wsim))/165.,wsim.values,label='binned wbad')#sim wbad\n",
    "plt.xlabel('Time (s)')\n",
    "plt.ylabel('WBAD (deg)')\n",
    "plt.legend()\n",
    "\n",
    "plt.figure() #actual vs smooth vs sim heading\n",
    "plt.plot(x,-8*wbadc,label='actual heading')#actual heading\n",
    "plt.scatter(x,-8*wbadrc,s=5,label='smooth heading')#smooth heading\n",
    "plt.plot(xc,-8*wsimc,label='binned heading')#simulated heading\n",
    "plt.xlabel('Time (s)')\n",
    "plt.ylabel('Heading (deg)')\n",
    "plt.legend()\n",
    "\n",
    "\n",
    "rotOff=-10\n",
    "plt.figure() #actual vs sim trajectory\n",
    "plt.plot(dff.trajectory__pPos_x,dff.trajectory__pPos_y,c='b',label='actual traj')#actual traj\n",
    "plt.plot(trajGen(wsimc8,init_ori=rotOff)[0],trajGen(wsimc8,init_ori=rotOff)[1],c='r',label='binned traj')#sim traj\n",
    "plt.xlabel('X (m)')\n",
    "plt.ylabel('Y (m)')\n",
    "plt.legend()\n",
    "\n",
    "plt.axes().set_aspect('equal','datalim')"
   ]
  },
  {
   "cell_type": "code",
   "execution_count": null,
   "metadata": {},
   "outputs": [],
   "source": []
  },
  {
   "cell_type": "code",
   "execution_count": null,
   "metadata": {},
   "outputs": [],
   "source": []
  },
  {
   "cell_type": "code",
   "execution_count": null,
   "metadata": {},
   "outputs": [],
   "source": []
  },
  {
   "cell_type": "code",
   "execution_count": null,
   "metadata": {},
   "outputs": [],
   "source": []
  },
  {
   "cell_type": "code",
   "execution_count": null,
   "metadata": {},
   "outputs": [],
   "source": []
  },
  {
   "cell_type": "code",
   "execution_count": null,
   "metadata": {},
   "outputs": [],
   "source": [
    "plt.figure()\n",
    "wbadr=wbad.rolling(win).mean().dropna()\n",
    "wbadc=wbad.cumsum()[win-1:]\n",
    "wsimc=wsim.cumsum()\n",
    "\n",
    "# wbad.cumsum().plot()\n",
    "\n",
    "wbadrc=wbadr.cumsum()\n",
    "x = np.arange(len(wbadc))/165.\n",
    "xc= np.arange(len(wsimc))/165.\n",
    "y = wbadr\n",
    "# col = np.where(y<-thresh,'r',np.where(y>thresh,'b','g'))\n",
    "\n",
    "col = np.where(y<-thresh2,'k',np.where(y<-thresh1,'b',np.where(y<thresh1,'g',np.where(y<thresh2,'r','m'))))\n",
    "\n",
    "plt.scatter(x,-8*wbadrc,color=col)\n",
    "plt.plot(x,-8*wbadc)\n",
    "plt.plot(xc,-8*wsimc)"
   ]
  },
  {
   "cell_type": "code",
   "execution_count": null,
   "metadata": {},
   "outputs": [],
   "source": [
    "turnVel1 = 0.0404106\n",
    "turnVel2 = 0.1\n",
    "turnVel3 = 0.18\n",
    "\n",
    "thresh1=0.01\n",
    "thresh2=0.05\n",
    "\n",
    "left1= -turnVel1\n",
    "left2= -turnVel2\n",
    "right1=turnVel1\n",
    "right2=turnVel2\n",
    "straight = 0\n",
    "\n",
    "\n",
    "wbadr=wbad.rolling(win).mean().dropna()\n",
    "wbadc=wbad.cumsum()[win-1:]\n",
    "x = np.arange(len(wbadc))/165.\n",
    "y = wbadr\n",
    "\n",
    "wsim = np.where(y<-thresh2,left2,np.where(y<-thresh1,left1,np.where(y<thresh1,straight,np.where(y<thresh2,right1,right2))))\n",
    "wsimc=wsim.cumsum()\n",
    "xc= np.arange(len(wsimc))/165.\n",
    "\n",
    "wbadrc=wbadr.cumsum()\n",
    "\n",
    "\n",
    "simx,simy=trajGen(wsimc)\n",
    "\n",
    "plt.figure()\n",
    "plt.axhline(thresh1,c='r')\n",
    "plt.axhline(-thresh1,c='b')\n",
    "plt.axhline(straight,c='g')\n",
    "plt.axhline(thresh2,c='m')\n",
    "plt.axhline(-thresh2,c='k')\n",
    "\n",
    "plt.plot(wbadr.values)\n",
    "plt.plot(wsim)\n"
   ]
  },
  {
   "cell_type": "code",
   "execution_count": null,
   "metadata": {},
   "outputs": [],
   "source": [
    "[wbadr[np.where(y>thresh)[0]].mean(),wbadr[np.where(y<-thresh)[0]].mean()]"
   ]
  },
  {
   "cell_type": "code",
   "execution_count": null,
   "metadata": {},
   "outputs": [],
   "source": [
    "plt.figure()\n",
    "plt.plot(dff.trajectory__pPos_x,dff.trajectory__pPos_y)\n",
    "plt.axes().set_aspect('equal','datalim')"
   ]
  },
  {
   "cell_type": "code",
   "execution_count": null,
   "metadata": {},
   "outputs": [],
   "source": [
    "thresh=0.05\n",
    "win=5\n",
    "wbadr=wbad.rolling(win).mean().dropna()\n",
    "x = np.arange(len(wbadr))\n",
    "y = wbadr\n",
    "\n",
    "col = np.where(y<-thresh,'r',np.where(y>thresh,'b','g'))\n",
    "plt.figure()\n",
    "\n",
    "plt.plot(wbadr.values,alpha=0.8)\n",
    "plt.scatter(x, y, c=col, s=10, linewidth=0)\n",
    "plt.xlim(500,800)\n",
    "plt.show()"
   ]
  },
  {
   "cell_type": "code",
   "execution_count": null,
   "metadata": {},
   "outputs": [],
   "source": []
  },
  {
   "cell_type": "code",
   "execution_count": null,
   "metadata": {
    "scrolled": false
   },
   "outputs": [],
   "source": []
  },
  {
   "cell_type": "code",
   "execution_count": null,
   "metadata": {},
   "outputs": [],
   "source": [
    "plt.figure()\n",
    "plt.plot(ori)"
   ]
  },
  {
   "cell_type": "code",
   "execution_count": null,
   "metadata": {},
   "outputs": [],
   "source": [
    "plt.figure()\n",
    "plt.plot(wbad,color=['k']*2397)"
   ]
  },
  {
   "cell_type": "code",
   "execution_count": null,
   "metadata": {},
   "outputs": [],
   "source": [
    "plt.figure()\n",
    "# plt.plot(wbad,'k')\n",
    "#plt.plot(wbadr)\n",
    "proxy = np.zeros(wbadr.values.shape[0])\n",
    "proxy[(wbadr>0.1) ] = wbadr[(wbadr>0.1) ]\n",
    "plt.plot(wbadr.values)\n",
    "plt.plot(proxy)\n",
    "\n"
   ]
  },
  {
   "cell_type": "code",
   "execution_count": null,
   "metadata": {},
   "outputs": [],
   "source": [
    "plt.figure()\n",
    "\n",
    "plt.hist(wbadr.values,10)"
   ]
  },
  {
   "cell_type": "code",
   "execution_count": null,
   "metadata": {},
   "outputs": [],
   "source": [
    "from bokeh.io import output_file, show\n",
    "from bokeh.layouts import gridplot\n",
    "from bokeh.plotting import figure\n",
    "\n",
    "output_file(\"panning.html\")\n",
    "\n",
    "x = list(range(11))\n",
    "y0 = x\n",
    "y1 = [10-xx for xx in x]\n",
    "y2 = [abs(xx-5) for xx in x]\n",
    "\n",
    "# create a new plot\n",
    "s1 = figure(plot_width=250, plot_height=250, title=None)\n",
    "s1.circle(x, y0, size=10, color=\"navy\", alpha=0.5)\n",
    "\n",
    "# create a new plot and share both ranges\n",
    "s2 = figure(plot_width=250, plot_height=250, x_range=s1.x_range, y_range=s1.y_range, title=None)\n",
    "s2.triangle(x, y1, size=10, color=\"firebrick\", alpha=0.5)\n",
    "\n",
    "# create a new plot and share only one range\n",
    "s3 = figure(plot_width=250, plot_height=250, x_range=s1.x_range, title=None)\n",
    "s3.square(x, y2, size=10, color=\"olive\", alpha=0.5)\n",
    "\n",
    "p = gridplot([[s1, s2, s3]], toolbar_location=None)"
   ]
  },
  {
   "cell_type": "code",
   "execution_count": null,
   "metadata": {},
   "outputs": [],
   "source": []
  }
 ],
 "metadata": {
  "kernelspec": {
   "display_name": "Python 3",
   "language": "python",
   "name": "python3"
  },
  "language_info": {
   "codemirror_mode": {
    "name": "ipython",
    "version": 3
   },
   "file_extension": ".py",
   "mimetype": "text/x-python",
   "name": "python",
   "nbconvert_exporter": "python",
   "pygments_lexer": "ipython3",
   "version": "3.6.5"
  }
 },
 "nbformat": 4,
 "nbformat_minor": 2
}

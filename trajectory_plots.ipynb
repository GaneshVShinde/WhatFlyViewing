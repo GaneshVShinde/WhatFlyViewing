{
 "cells": [
  {
   "cell_type": "code",
   "execution_count": 2,
   "metadata": {},
   "outputs": [],
   "source": [
    "import os\n",
    "import numpy as np\n",
    "import matplotlib.pyplot as plt\n",
    "import pandas as pd"
   ]
  },
  {
   "cell_type": "code",
   "execution_count": 3,
   "metadata": {},
   "outputs": [],
   "source": [
    "df=pd.read_hdf(\"all_wind.h5\")"
   ]
  },
  {
   "cell_type": "code",
   "execution_count": 4,
   "metadata": {},
   "outputs": [
    {
     "name": "stdout",
     "output_type": "stream",
     "text": [
      "trajectory__boutFrame\n",
      "trajectory__compensation\n",
      "trajectory__gain\n",
      "trajectory__impose\n",
      "trajectory__imposeHeading\n",
      "trajectory__imposeResponse\n",
      "trajectory__imposeResponseHeading\n",
      "trajectory__imposeResponseSmooth\n",
      "trajectory__key\n",
      "trajectory__o1Pos_x\n",
      "trajectory__o1Pos_y\n",
      "trajectory__o1Pos_z\n",
      "trajectory__o2Pos_x\n",
      "trajectory__o2Pos_y\n",
      "trajectory__o2Pos_z\n",
      "trajectory__pOri_y\n",
      "trajectory__pOri_z\n",
      "trajectory__packetDuration\n",
      "trajectory__packetFrequency\n",
      "trajectory__pfStimState\n",
      "trajectory__quadrant\n",
      "trajectory__speedControl\n",
      "trajectory__valve1\n",
      "trajectory__valve2\n",
      "trajectory__valve3\n"
     ]
    }
   ],
   "source": [
    "#removing unnecessary columns\n",
    "for nam in df.columns:\n",
    "    if len(df[nam].unique()) == 1 :\n",
    "        print(nam)\n",
    "        df.drop([nam],axis=1,inplace=True)"
   ]
  },
  {
   "cell_type": "code",
   "execution_count": 5,
   "metadata": {},
   "outputs": [
    {
     "name": "stdout",
     "output_type": "stream",
     "text": [
      "trajectory__DCoffset\n",
      "trajectory__case\n",
      "trajectory__groundSpeed\n",
      "trajectory__headingControl\n",
      "trajectory__isFlying\n",
      "trajectory__pOri_x\n",
      "trajectory__pPos_x\n",
      "trajectory__pPos_y\n",
      "trajectory__pPos_z\n",
      "trajectory__reset\n",
      "trajectory__runNum\n",
      "trajectory__servoAngle\n",
      "trajectory__slip\n",
      "trajectory__speed\n",
      "trajectory__trial\n",
      "trajectory__wbad\n",
      "trajectory__wbas\n",
      "windPressure\n",
      "visual\n",
      "flowSource\n",
      "timeStamp\n"
     ]
    }
   ],
   "source": [
    "for colm in df.columns:\n",
    "    print(colm)"
   ]
  },
  {
   "cell_type": "code",
   "execution_count": 5,
   "metadata": {},
   "outputs": [],
   "source": [
    "files = df.timeStamp.unique()"
   ]
  },
  {
   "cell_type": "markdown",
   "metadata": {},
   "source": [
    "# this code is not so useful"
   ]
  },
  {
   "cell_type": "code",
   "execution_count": 13,
   "metadata": {},
   "outputs": [],
   "source": [
    "# for file in files: #for each file\n",
    "#     df2 = df[df.timeStamp==file]\n",
    "#     wind_pressure_s = df2.windPressure.unique()\n",
    "#     for wind in wind_pressure_s: # for each wind speed in that file\n",
    "#         visual_s = df2[df2.windPressure==wind].visual.unique()\n",
    "#         for visual in visual_s: # for each visual stimulus type\n",
    "# #             run_num_s= df2[(df2.windPressure==wind) & (df2.visual == visual)].trajectory__runNum.unique()\n",
    "# #             for run in run_num_s: #for each run\n",
    "#                 case_s = df2[(df2.windPressure==wind) & (df2.visual == visual) ].trajectory__case.unique()\n",
    "#                 for case in case_s:\n",
    "#                     df3=df2[(df2.windPressure==wind) & (df2.visual == visual) & df2.trajectory__case == case]\n",
    "#                     trial_s=df3.trajectory__trial.unique()\n",
    "#                     if len(trial_s) >0:\n",
    "#                         case_plot = \"Wind_presure/wind_\"+str(wind)+\"_\"+ visual +\"_\"+\"case_\"+str(case)\n",
    "#                         if not os.path.exists(case_plot):\n",
    "#                             os.makedirs(case_plot)\n",
    "#                         fig=plt.figure(figsize=(8.0, 5.0))\n",
    "#                         ax_carthesian  = fig.add_axes([0.1,0.1,3,3])\n",
    "#                         ax_polar = fig.add_axes([0.16,0.15,3,3], polar=True, frameon=False)\n",
    "#                         for trial in trial_s:\n",
    "#                             df4=df3[df3.trajectory__trial == trial]\n",
    "#                             ax_carthesian.scatter(df4.trajectory__pPos_x,df4.trajectory__pPos_y,s=3,alpha=0.3,label=\"path\"+str(trial))\n",
    "#                             #plt.scatter(df4.trajectory__pPos_x[0],df4.trajectory__pPos_y[0],s=20,c=\"red\")\n",
    "#                             #print(df3.trajectory__pPos_x[df3.shape[0]-3],df3.trajectory__pPos_y[df3.shape[0]-3])\n",
    "#                             #plt.scatter(df4.trajectory__pPos_x[df4.shape[0]-1],df4.trajectory__pPos_y[df4.shape[0]-1],s=20,c=\"black\")\n",
    "#                         ax_polar.grid(True)\n",
    "#                         ax_carthesian.set_xlim(500,525)\n",
    "#                         ax_carthesian.set_ylim(500,525)\n",
    "#                         ax_polar.set_rmin(516)\n",
    "#                         ax_polar.set_rmax(525)\n",
    "#                         #plt.legend()\n",
    "#                         fig.savefig(case_plot+\"/\"+file+\"_\"+str(case)+\".png\",bbox_inches = 'tight')\n",
    "#                         plt.close()\n",
    "                        \n",
    "                    \n",
    "            "
   ]
  },
  {
   "cell_type": "markdown",
   "metadata": {},
   "source": [
    "# case wise plots"
   ]
  },
  {
   "cell_type": "code",
   "execution_count": 10,
   "metadata": {},
   "outputs": [],
   "source": [
    "for file in files: #for each file\n",
    "    df2 = df[df.timeStamp==file]\n",
    "    wind_pressure_s = df2.windPressure.unique()\n",
    "    for wind in wind_pressure_s: # for each wind speed in that file\n",
    "        visual_s = df2[df2.windPressure==wind].visual.unique()\n",
    "        for visual in visual_s: # for each visual stimulus type\n",
    "#             run_num_s= df2[(df2.windPressure==wind) & (df2.visual == visual)].trajectory__runNum.unique()\n",
    "#             for run in run_num_s: #for each run\n",
    "                case_s = df2[(df2.windPressure==wind) & (df2.visual == visual) ].trajectory__case.unique()\n",
    "                for case in case_s:\n",
    "                    df3=df2[df2.trajectory__case == case]\n",
    "                    if df3.shape[0] >0:\n",
    "                        case_plot = \"trajectory_plots/wind_\"+str(wind)+\"_\"+ visual +\"_\"+\"case_\"+str(case)\n",
    "                        if not os.path.exists(case_plot):\n",
    "                            os.makedirs(case_plot)\n",
    "                        fig=plt.figure(figsize=(8.0, 5.0))\n",
    "                        ax_carthesian  = fig.add_axes([0.1,0.1,3,3])\n",
    "                        ax_polar = fig.add_axes([0.16,0.15,3,3], polar=True, frameon=False)\n",
    "                        ax_carthesian.scatter(df3.trajectory__pPos_x,df3.trajectory__pPos_y,s=3,alpha=0.3,label=\"path\"+str(case))\n",
    "                        #plt.scatter(df4.trajectory__pPos_x[0],df4.trajectory__pPos_y[0],s=20,c=\"red\")\n",
    "                        #print(df3.trajectory__pPos_x[df3.shape[0]-3],df3.trajectory__pPos_y[df3.shape[0]-3])\n",
    "                        #plt.scatter(df4.trajectory__pPos_x[df4.shape[0]-1],df4.trajectory__pPos_y[df4.shape[0]-1],s=20,c=\"black\")\n",
    "                        ax_polar.grid(True)\n",
    "                        ax_carthesian.set_xlim(500,525)\n",
    "                        ax_carthesian.set_ylim(500,525)\n",
    "                        ax_polar.set_rmin(516)\n",
    "                        ax_polar.set_rmax(525)\n",
    "                        #plt.legend()\n",
    "                        fig.savefig(case_plot+\"/\"+file+\"_\"+str(case)+\".png\",bbox_inches = 'tight')\n",
    "                        plt.close()\n",
    "                        "
   ]
  },
  {
   "cell_type": "markdown",
   "metadata": {},
   "source": [
    "# time_wise plots"
   ]
  },
  {
   "cell_type": "code",
   "execution_count": 10,
   "metadata": {},
   "outputs": [],
   "source": [
    "for file in files: #for each file\n",
    "    df2 = df[df.timeStamp==file]\n",
    "    wind_pressure_s = df2.windPressure.unique()\n",
    "    for wind in wind_pressure_s: # for each wind speed in that file\n",
    "        visual_s = df2[df2.windPressure==wind].visual.unique()\n",
    "        for visual in visual_s: # for each visual stimulus type\n",
    "#             run_num_s= df2[(df2.windPressure==wind) & (df2.visual == visual)].trajectory__runNum.unique()\n",
    "#             for run in run_num_s: #for each run\n",
    "                case_s = df2[(df2.windPressure==wind) & (df2.visual == visual) ].trajectory__case.unique()\n",
    "                case_plot = \"trajectory_plots\"+\"/File_wise_trajectories/\"\n",
    "                if not os.path.exists(case_plot):\n",
    "                    os.makedirs(case_plot)\n",
    "                fig=plt.figure(figsize=(8.0, 5.0))\n",
    "                ax_carthesian  = fig.add_axes([0.1,0.1,3,3])\n",
    "                ax_polar = fig.add_axes([0.16,0.15,3,3], polar=True, frameon=False)\n",
    "                for i,case in enumerate(case_s):\n",
    "                    df3=df2[df2.trajectory__case == case]\n",
    "                    hndl=ax_carthesian.scatter(df3.trajectory__pPos_x,df3.trajectory__pPos_y,s=3,label=\"case_\"+str(case))\n",
    "                    ax_carthesian.legend()\n",
    "                    #plt.scatter(df4.trajectory__pPos_x[0],df4.trajectory__pPos_y[0],s=20,c=\"red\")\n",
    "                    #print(df3.trajectory__pPos_x[df3.shape[0]-3],df3.trajectory__pPos_y[df3.shape[0]-3])\n",
    "                    #plt.scatter(df4.trajectory__pPos_x[df4.shape[0]-1],df4.trajectory__pPos_y[df4.shape[0]-1],s=20,c=\"black\")\n",
    "                ax_polar.grid(True)\n",
    "                ax_carthesian.set_xlim(500,525)\n",
    "                ax_carthesian.set_ylim(500,525)\n",
    "                ax_polar.set_rmin(516)\n",
    "                ax_polar.set_rmax(525)\n",
    "                #plt.legend()\n",
    "                fig.savefig(case_plot+\"w_\"+wind+\"_\"+visual+file+\".png\",bbox_inches = 'tight')\n",
    "                plt.close()"
   ]
  },
  {
   "cell_type": "code",
   "execution_count": null,
   "metadata": {},
   "outputs": [],
   "source": []
  }
 ],
 "metadata": {
  "kernelspec": {
   "display_name": "Python 3",
   "language": "python",
   "name": "python3"
  },
  "language_info": {
   "codemirror_mode": {
    "name": "ipython",
    "version": 3
   },
   "file_extension": ".py",
   "mimetype": "text/x-python",
   "name": "python",
   "nbconvert_exporter": "python",
   "pygments_lexer": "ipython3",
   "version": "3.6.5"
  }
 },
 "nbformat": 4,
 "nbformat_minor": 2
}

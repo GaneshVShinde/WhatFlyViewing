{
 "cells": [
  {
   "cell_type": "code",
   "execution_count": 1,
   "metadata": {},
   "outputs": [],
   "source": [
    "import os\n",
    "import pandas as pd\n",
    "import datetime, time\n",
    "import numpy as np\n",
    "import matplotlib.pyplot as plt"
   ]
  },
  {
   "cell_type": "code",
   "execution_count": 2,
   "metadata": {},
   "outputs": [],
   "source": [
    "df = pd.read_hdf(\"all_wind_clean.h5\")    "
   ]
  },
  {
   "cell_type": "code",
   "execution_count": 3,
   "metadata": {},
   "outputs": [],
   "source": [
    "df2=df[df.timeStamp==\"2018-01-24__20~36~56\"]"
   ]
  },
  {
   "cell_type": "code",
   "execution_count": 4,
   "metadata": {},
   "outputs": [
    {
     "name": "stderr",
     "output_type": "stream",
     "text": [
      "/home/lsr/anaconda3/lib/python3.6/site-packages/ipykernel_launcher.py:1: SettingWithCopyWarning: \n",
      "A value is trying to be set on a copy of a slice from a DataFrame.\n",
      "Try using .loc[row_indexer,col_indexer] = value instead\n",
      "\n",
      "See the caveats in the documentation: http://pandas.pydata.org/pandas-docs/stable/indexing.html#indexing-view-versus-copy\n",
      "  \"\"\"Entry point for launching an IPython kernel.\n",
      "/home/lsr/anaconda3/lib/python3.6/site-packages/ipykernel_launcher.py:2: SettingWithCopyWarning: \n",
      "A value is trying to be set on a copy of a slice from a DataFrame\n",
      "\n",
      "See the caveats in the documentation: http://pandas.pydata.org/pandas-docs/stable/indexing.html#indexing-view-versus-copy\n",
      "  \n",
      "/home/lsr/anaconda3/lib/python3.6/site-packages/pandas/core/generic.py:7620: SettingWithCopyWarning: \n",
      "A value is trying to be set on a copy of a slice from a DataFrame\n",
      "\n",
      "See the caveats in the documentation: http://pandas.pydata.org/pandas-docs/stable/indexing.html#indexing-view-versus-copy\n",
      "  self._update_inplace(new_data)\n",
      "/home/lsr/anaconda3/lib/python3.6/site-packages/IPython/core/interactiveshell.py:2963: SettingWithCopyWarning: \n",
      "A value is trying to be set on a copy of a slice from a DataFrame\n",
      "\n",
      "See the caveats in the documentation: http://pandas.pydata.org/pandas-docs/stable/indexing.html#indexing-view-versus-copy\n",
      "  exec(code_obj, self.user_global_ns, self.user_ns)\n",
      "/home/lsr/anaconda3/lib/python3.6/site-packages/ipykernel_launcher.py:3: SettingWithCopyWarning: \n",
      "A value is trying to be set on a copy of a slice from a DataFrame\n",
      "\n",
      "See the caveats in the documentation: http://pandas.pydata.org/pandas-docs/stable/indexing.html#indexing-view-versus-copy\n",
      "  This is separate from the ipykernel package so we can avoid doing imports until\n",
      "/home/lsr/anaconda3/lib/python3.6/site-packages/ipykernel_launcher.py:4: SettingWithCopyWarning: \n",
      "A value is trying to be set on a copy of a slice from a DataFrame\n",
      "\n",
      "See the caveats in the documentation: http://pandas.pydata.org/pandas-docs/stable/indexing.html#indexing-view-versus-copy\n",
      "  after removing the cwd from sys.path.\n",
      "/home/lsr/anaconda3/lib/python3.6/site-packages/ipykernel_launcher.py:5: SettingWithCopyWarning: \n",
      "A value is trying to be set on a copy of a slice from a DataFrame\n",
      "\n",
      "See the caveats in the documentation: http://pandas.pydata.org/pandas-docs/stable/indexing.html#indexing-view-versus-copy\n",
      "  \"\"\"\n",
      "/home/lsr/anaconda3/lib/python3.6/site-packages/pandas/core/generic.py:7620: SettingWithCopyWarning: \n",
      "A value is trying to be set on a copy of a slice from a DataFrame\n",
      "\n",
      "See the caveats in the documentation: http://pandas.pydata.org/pandas-docs/stable/indexing.html#indexing-view-versus-copy\n",
      "  self._update_inplace(new_data)\n",
      "/home/lsr/anaconda3/lib/python3.6/site-packages/IPython/core/interactiveshell.py:2963: SettingWithCopyWarning: \n",
      "A value is trying to be set on a copy of a slice from a DataFrame\n",
      "\n",
      "See the caveats in the documentation: http://pandas.pydata.org/pandas-docs/stable/indexing.html#indexing-view-versus-copy\n",
      "  exec(code_obj, self.user_global_ns, self.user_ns)\n"
     ]
    }
   ],
   "source": [
    "df2[\"wind_direction\"] = 0\n",
    "df2.wind_direction[df2.trajectory__case==1]=180\n",
    "df2.wind_direction[df2.trajectory__case==2]=270\n",
    "df2.wind_direction[df2.trajectory__case==3]=0\n",
    "df2.wind_direction[df2.trajectory__case==0]=df2[df2.trajectory__case==0].trajectory__pOri_x+180"
   ]
  },
  {
   "cell_type": "code",
   "execution_count": 7,
   "metadata": {},
   "outputs": [
    {
     "data": {
      "text/plain": [
       "[<matplotlib.lines.Line2D at 0x7f5ff466b6a0>]"
      ]
     },
     "execution_count": 7,
     "metadata": {},
     "output_type": "execute_result"
    },
    {
     "data": {
      "image/png": "[encoded data removed]",
      "text/plain": [
       "<Figure size 432x288 with 1 Axes>"
      ]
     },
     "metadata": {},
     "output_type": "display_data"
    }
   ],
   "source": [
    "plt.plot(df2.wind_direction[df2.trajectory__case==2])"
   ]
  },
  {
   "cell_type": "code",
   "execution_count": 8,
   "metadata": {},
   "outputs": [],
   "source": [
    "df2=df2.assign(wind_wrt_fly=df2.trajectory__pOri_x.values-df2.wind_direction.values)"
   ]
  },
  {
   "cell_type": "code",
   "execution_count": 9,
   "metadata": {},
   "outputs": [],
   "source": [
    "df2[\"wind_wrt_fly_normalized\"]=0\n",
    "df2=df2.assign(wind_wrt_fly_normalized = df2[\"wind_wrt_fly\"].values%360)"
   ]
  },
  {
   "cell_type": "code",
   "execution_count": 10,
   "metadata": {},
   "outputs": [
    {
     "name": "stderr",
     "output_type": "stream",
     "text": [
      "/home/lsr/anaconda3/lib/python3.6/site-packages/ipykernel_launcher.py:1: SettingWithCopyWarning: \n",
      "A value is trying to be set on a copy of a slice from a DataFrame\n",
      "\n",
      "See the caveats in the documentation: http://pandas.pydata.org/pandas-docs/stable/indexing.html#indexing-view-versus-copy\n",
      "  \"\"\"Entry point for launching an IPython kernel.\n"
     ]
    }
   ],
   "source": [
    "df2.wind_wrt_fly_normalized[df2.wind_wrt_fly_normalized.values>180] = df2.wind_wrt_fly_normalized[df2.wind_wrt_fly_normalized.values>180]-360 "
   ]
  },
  {
   "cell_type": "code",
   "execution_count": 12,
   "metadata": {},
   "outputs": [],
   "source": [
    "df2=df2.assign(wind_wrt_fly_normalized_abs =np.abs(df2.wind_wrt_fly_normalized.values ))"
   ]
  },
  {
   "cell_type": "code",
   "execution_count": 13,
   "metadata": {},
   "outputs": [],
   "source": [
    "def print_structure(df):\n",
    "    files = df.timeStamp.unique()\n",
    "    for file in files:\n",
    "        runs=df[df.timeStamp==file].trajectory__runNum.unique()\n",
    "        for run in runs:\n",
    "            case_=df[(df.timeStamp==file) & (df.trajectory__runNum==run)].trajectory__case.unique()\n",
    "            #print(run,case_)\n",
    "            for c in case_:\n",
    "                s=df[(df.timeStamp==file) & (df.trajectory__runNum==run) & (df.trajectory__case==c)].shape\n",
    "                print(\"F:\",file,\"_\",\"R:\",run,\"_\",\"C:\",c,\"_\",\"S:\",s)"
   ]
  },
  {
   "cell_type": "code",
   "execution_count": 14,
   "metadata": {},
   "outputs": [
    {
     "name": "stdout",
     "output_type": "stream",
     "text": [
      "F: 2018-01-24__20~36~56 _ R: 1.0 _ C: 0.0 _ S: (2396, 25)\n",
      "F: 2018-01-24__20~36~56 _ R: 1.0 _ C: 1.0 _ S: (2397, 25)\n",
      "F: 2018-01-24__20~36~56 _ R: 1.0 _ C: 2.0 _ S: (2397, 25)\n",
      "F: 2018-01-24__20~36~56 _ R: 1.0 _ C: 3.0 _ S: (2397, 25)\n",
      "F: 2018-01-24__20~36~56 _ R: 2.0 _ C: 0.0 _ S: (2397, 25)\n",
      "F: 2018-01-24__20~36~56 _ R: 2.0 _ C: 1.0 _ S: (2397, 25)\n",
      "F: 2018-01-24__20~36~56 _ R: 2.0 _ C: 2.0 _ S: (2397, 25)\n",
      "F: 2018-01-24__20~36~56 _ R: 2.0 _ C: 3.0 _ S: (2397, 25)\n",
      "F: 2018-01-24__20~36~56 _ R: 3.0 _ C: 0.0 _ S: (2397, 25)\n",
      "F: 2018-01-24__20~36~56 _ R: 3.0 _ C: 1.0 _ S: (2397, 25)\n",
      "F: 2018-01-24__20~36~56 _ R: 3.0 _ C: 2.0 _ S: (2397, 25)\n",
      "F: 2018-01-24__20~36~56 _ R: 3.0 _ C: 3.0 _ S: (2397, 25)\n",
      "F: 2018-01-24__20~36~56 _ R: 4.0 _ C: 0.0 _ S: (2397, 25)\n",
      "F: 2018-01-24__20~36~56 _ R: 4.0 _ C: 1.0 _ S: (2397, 25)\n",
      "F: 2018-01-24__20~36~56 _ R: 4.0 _ C: 2.0 _ S: (2397, 25)\n",
      "F: 2018-01-24__20~36~56 _ R: 4.0 _ C: 3.0 _ S: (2397, 25)\n",
      "F: 2018-01-24__20~36~56 _ R: 5.0 _ C: 0.0 _ S: (2397, 25)\n",
      "F: 2018-01-24__20~36~56 _ R: 5.0 _ C: 1.0 _ S: (2397, 25)\n",
      "F: 2018-01-24__20~36~56 _ R: 5.0 _ C: 2.0 _ S: (2397, 25)\n",
      "F: 2018-01-24__20~36~56 _ R: 5.0 _ C: 3.0 _ S: (2397, 25)\n",
      "F: 2018-01-24__20~36~56 _ R: 6.0 _ C: 0.0 _ S: (2397, 25)\n",
      "F: 2018-01-24__20~36~56 _ R: 6.0 _ C: 1.0 _ S: (2397, 25)\n",
      "F: 2018-01-24__20~36~56 _ R: 6.0 _ C: 2.0 _ S: (2397, 25)\n",
      "F: 2018-01-24__20~36~56 _ R: 6.0 _ C: 3.0 _ S: (2397, 25)\n",
      "F: 2018-01-24__20~36~56 _ R: 7.0 _ C: 0.0 _ S: (2397, 25)\n",
      "F: 2018-01-24__20~36~56 _ R: 7.0 _ C: 1.0 _ S: (2397, 25)\n",
      "F: 2018-01-24__20~36~56 _ R: 7.0 _ C: 2.0 _ S: (2397, 25)\n",
      "F: 2018-01-24__20~36~56 _ R: 7.0 _ C: 3.0 _ S: (2397, 25)\n",
      "F: 2018-01-24__20~36~56 _ R: 8.0 _ C: 0.0 _ S: (828, 25)\n"
     ]
    }
   ],
   "source": [
    "print_structure(df2)"
   ]
  },
  {
   "cell_type": "code",
   "execution_count": 17,
   "metadata": {},
   "outputs": [],
   "source": [
    "def add_diff_wind(df):\n",
    "    files = df.timeStamp.unique()\n",
    "    df[\"wind_wrt_fly_diff\"]=0\n",
    "    for file in files:\n",
    "        runs=df[df.timeStamp==file].trajectory__runNum.unique()\n",
    "        for run in runs:\n",
    "            case_=df[(df.timeStamp==file) & (df.trajectory__runNum==run)].trajectory__case.unique()\n",
    "            #print(run,case_)\n",
    "            for c in case_:\n",
    "                d=np.diff(df[(df.timeStamp==file) & (df.trajectory__runNum==run) & (df.trajectory__case==c)].wind_wrt_fly.values)\n",
    "                d=np.append(d,0)\n",
    "                df.loc[(df.timeStamp==file) & (df.trajectory__runNum==run) & (df.trajectory__case==c),\"wind_wrt_fly_diff\"]=d\n",
    "    return df"
   ]
  },
  {
   "cell_type": "code",
   "execution_count": 18,
   "metadata": {},
   "outputs": [],
   "source": [
    "df2_w_diff=add_diff_wind(df2)"
   ]
  },
  {
   "cell_type": "code",
   "execution_count": 19,
   "metadata": {},
   "outputs": [
    {
     "name": "stdout",
     "output_type": "stream",
     "text": [
      "F: 2018-01-24__20~36~56 _ R: 1.0 _ C: 0.0 _ S: (2396, 26)\n",
      "F: 2018-01-24__20~36~56 _ R: 1.0 _ C: 1.0 _ S: (2397, 26)\n",
      "F: 2018-01-24__20~36~56 _ R: 1.0 _ C: 2.0 _ S: (2397, 26)\n",
      "F: 2018-01-24__20~36~56 _ R: 1.0 _ C: 3.0 _ S: (2397, 26)\n",
      "F: 2018-01-24__20~36~56 _ R: 2.0 _ C: 0.0 _ S: (2397, 26)\n",
      "F: 2018-01-24__20~36~56 _ R: 2.0 _ C: 1.0 _ S: (2397, 26)\n",
      "F: 2018-01-24__20~36~56 _ R: 2.0 _ C: 2.0 _ S: (2397, 26)\n",
      "F: 2018-01-24__20~36~56 _ R: 2.0 _ C: 3.0 _ S: (2397, 26)\n",
      "F: 2018-01-24__20~36~56 _ R: 3.0 _ C: 0.0 _ S: (2397, 26)\n",
      "F: 2018-01-24__20~36~56 _ R: 3.0 _ C: 1.0 _ S: (2397, 26)\n",
      "F: 2018-01-24__20~36~56 _ R: 3.0 _ C: 2.0 _ S: (2397, 26)\n",
      "F: 2018-01-24__20~36~56 _ R: 3.0 _ C: 3.0 _ S: (2397, 26)\n",
      "F: 2018-01-24__20~36~56 _ R: 4.0 _ C: 0.0 _ S: (2397, 26)\n",
      "F: 2018-01-24__20~36~56 _ R: 4.0 _ C: 1.0 _ S: (2397, 26)\n",
      "F: 2018-01-24__20~36~56 _ R: 4.0 _ C: 2.0 _ S: (2397, 26)\n",
      "F: 2018-01-24__20~36~56 _ R: 4.0 _ C: 3.0 _ S: (2397, 26)\n",
      "F: 2018-01-24__20~36~56 _ R: 5.0 _ C: 0.0 _ S: (2397, 26)\n",
      "F: 2018-01-24__20~36~56 _ R: 5.0 _ C: 1.0 _ S: (2397, 26)\n",
      "F: 2018-01-24__20~36~56 _ R: 5.0 _ C: 2.0 _ S: (2397, 26)\n",
      "F: 2018-01-24__20~36~56 _ R: 5.0 _ C: 3.0 _ S: (2397, 26)\n",
      "F: 2018-01-24__20~36~56 _ R: 6.0 _ C: 0.0 _ S: (2397, 26)\n",
      "F: 2018-01-24__20~36~56 _ R: 6.0 _ C: 1.0 _ S: (2397, 26)\n",
      "F: 2018-01-24__20~36~56 _ R: 6.0 _ C: 2.0 _ S: (2397, 26)\n",
      "F: 2018-01-24__20~36~56 _ R: 6.0 _ C: 3.0 _ S: (2397, 26)\n",
      "F: 2018-01-24__20~36~56 _ R: 7.0 _ C: 0.0 _ S: (2397, 26)\n",
      "F: 2018-01-24__20~36~56 _ R: 7.0 _ C: 1.0 _ S: (2397, 26)\n",
      "F: 2018-01-24__20~36~56 _ R: 7.0 _ C: 2.0 _ S: (2397, 26)\n",
      "F: 2018-01-24__20~36~56 _ R: 7.0 _ C: 3.0 _ S: (2397, 26)\n",
      "F: 2018-01-24__20~36~56 _ R: 8.0 _ C: 0.0 _ S: (828, 26)\n"
     ]
    }
   ],
   "source": [
    "print_structure(df2_w_diff)"
   ]
  },
  {
   "cell_type": "code",
   "execution_count": 20,
   "metadata": {},
   "outputs": [
    {
     "data": {
      "text/plain": [
       "Index(['trajectory__DCoffset', 'trajectory__case', 'trajectory__groundSpeed',\n",
       "       'trajectory__headingControl', 'trajectory__isFlying',\n",
       "       'trajectory__pOri_x', 'trajectory__pPos_x', 'trajectory__pPos_y',\n",
       "       'trajectory__pPos_z', 'trajectory__reset', 'trajectory__runNum',\n",
       "       'trajectory__servoAngle', 'trajectory__slip', 'trajectory__speed',\n",
       "       'trajectory__trial', 'trajectory__wbad', 'trajectory__wbas',\n",
       "       'windPressure', 'visual', 'flowSource', 'timeStamp', 'wind_direction',\n",
       "       'wind_wrt_fly', 'wind_wrt_fly_normalized',\n",
       "       'wind_wrt_fly_normalized_abs', 'wind_wrt_fly_diff'],\n",
       "      dtype='object')"
      ]
     },
     "execution_count": 20,
     "metadata": {},
     "output_type": "execute_result"
    }
   ],
   "source": [
    "df2_w_diff.columns"
   ]
  },
  {
   "cell_type": "code",
   "execution_count": 21,
   "metadata": {},
   "outputs": [],
   "source": [
    "df_test=df2_w_diff.loc[(df.trajectory__case!=0.0),:]"
   ]
  },
  {
   "cell_type": "code",
   "execution_count": 22,
   "metadata": {},
   "outputs": [
    {
     "name": "stdout",
     "output_type": "stream",
     "text": [
      "F: 2018-01-24__20~36~56 _ R: 1.0 _ C: 1.0 _ S: (2397, 26)\n",
      "F: 2018-01-24__20~36~56 _ R: 1.0 _ C: 2.0 _ S: (2397, 26)\n",
      "F: 2018-01-24__20~36~56 _ R: 1.0 _ C: 3.0 _ S: (2397, 26)\n",
      "F: 2018-01-24__20~36~56 _ R: 2.0 _ C: 1.0 _ S: (2397, 26)\n",
      "F: 2018-01-24__20~36~56 _ R: 2.0 _ C: 2.0 _ S: (2397, 26)\n",
      "F: 2018-01-24__20~36~56 _ R: 2.0 _ C: 3.0 _ S: (2397, 26)\n",
      "F: 2018-01-24__20~36~56 _ R: 3.0 _ C: 1.0 _ S: (2397, 26)\n",
      "F: 2018-01-24__20~36~56 _ R: 3.0 _ C: 2.0 _ S: (2397, 26)\n",
      "F: 2018-01-24__20~36~56 _ R: 3.0 _ C: 3.0 _ S: (2397, 26)\n",
      "F: 2018-01-24__20~36~56 _ R: 4.0 _ C: 1.0 _ S: (2397, 26)\n",
      "F: 2018-01-24__20~36~56 _ R: 4.0 _ C: 2.0 _ S: (2397, 26)\n",
      "F: 2018-01-24__20~36~56 _ R: 4.0 _ C: 3.0 _ S: (2397, 26)\n",
      "F: 2018-01-24__20~36~56 _ R: 5.0 _ C: 1.0 _ S: (2397, 26)\n",
      "F: 2018-01-24__20~36~56 _ R: 5.0 _ C: 2.0 _ S: (2397, 26)\n",
      "F: 2018-01-24__20~36~56 _ R: 5.0 _ C: 3.0 _ S: (2397, 26)\n",
      "F: 2018-01-24__20~36~56 _ R: 6.0 _ C: 1.0 _ S: (2397, 26)\n",
      "F: 2018-01-24__20~36~56 _ R: 6.0 _ C: 2.0 _ S: (2397, 26)\n",
      "F: 2018-01-24__20~36~56 _ R: 6.0 _ C: 3.0 _ S: (2397, 26)\n",
      "F: 2018-01-24__20~36~56 _ R: 7.0 _ C: 1.0 _ S: (2397, 26)\n",
      "F: 2018-01-24__20~36~56 _ R: 7.0 _ C: 2.0 _ S: (2397, 26)\n",
      "F: 2018-01-24__20~36~56 _ R: 7.0 _ C: 3.0 _ S: (2397, 26)\n"
     ]
    }
   ],
   "source": [
    "print_structure(df_test)"
   ]
  },
  {
   "cell_type": "code",
   "execution_count": 27,
   "metadata": {},
   "outputs": [],
   "source": [
    "from sklearn.ensemble import RandomForestRegressor\n",
    "from sklearn.tree import DecisionTreeRegressor"
   ]
  },
  {
   "cell_type": "code",
   "execution_count": 33,
   "metadata": {},
   "outputs": [],
   "source": [
    "from sklearn import model_selection"
   ]
  },
  {
   "cell_type": "code",
   "execution_count": 24,
   "metadata": {},
   "outputs": [],
   "source": [
    "idx=df_test.iloc[::2397,:].index\n",
    "df_test=df_test.drop(index=idx)"
   ]
  },
  {
   "cell_type": "code",
   "execution_count": 30,
   "metadata": {},
   "outputs": [],
   "source": [
    "rf=RandomForestRegressor(n_estimators=400,min_samples_split=5\n",
    "                             ,min_samples_leaf=1,\n",
    "                             max_depth=90)"
   ]
  },
  {
   "cell_type": "code",
   "execution_count": null,
   "metadata": {},
   "outputs": [],
   "source": [
    "model_selection.train_test_split()"
   ]
  },
  {
   "cell_type": "code",
   "execution_count": 34,
   "metadata": {},
   "outputs": [
    {
     "data": {
      "text/plain": [
       "35955"
      ]
     },
     "execution_count": 34,
     "metadata": {},
     "output_type": "execute_result"
    }
   ],
   "source": [
    "2397*15"
   ]
  },
  {
   "cell_type": "code",
   "execution_count": 52,
   "metadata": {},
   "outputs": [],
   "source": [
    "train=df_test.loc[df_test.trajectory__runNum<6,:]\n",
    "test=df_test.loc[df_test.trajectory__runNum>5,:]"
   ]
  },
  {
   "cell_type": "code",
   "execution_count": 53,
   "metadata": {},
   "outputs": [
    {
     "data": {
      "text/plain": [
       "RandomForestRegressor(bootstrap=True, criterion='mse', max_depth=90,\n",
       "           max_features='auto', max_leaf_nodes=None,\n",
       "           min_impurity_decrease=0.0, min_impurity_split=None,\n",
       "           min_samples_leaf=1, min_samples_split=5,\n",
       "           min_weight_fraction_leaf=0.0, n_estimators=400, n_jobs=1,\n",
       "           oob_score=False, random_state=None, verbose=0, warm_start=False)"
      ]
     },
     "execution_count": 53,
     "metadata": {},
     "output_type": "execute_result"
    }
   ],
   "source": [
    "rf.fit(train.wind_wrt_fly_normalized.values.reshape(-1,1),train.wind_wrt_fly_diff.values)"
   ]
  },
  {
   "cell_type": "code",
   "execution_count": 54,
   "metadata": {},
   "outputs": [],
   "source": [
    "y_pred=rf.predict(test.wind_wrt_fly_normalized.values.reshape(-1,1))"
   ]
  },
  {
   "cell_type": "code",
   "execution_count": 55,
   "metadata": {},
   "outputs": [
    {
     "data": {
      "text/plain": [
       "[<matplotlib.lines.Line2D at 0x7f5f97cbd278>]"
      ]
     },
     "execution_count": 55,
     "metadata": {},
     "output_type": "execute_result"
    },
    {
     "data": {
      "image/png": "[encoded data removed]",
      "text/plain": [
       "<Figure size 432x288 with 1 Axes>"
      ]
     },
     "metadata": {},
     "output_type": "display_data"
    }
   ],
   "source": [
    "plt.plot(y_pred)"
   ]
  },
  {
   "cell_type": "code",
   "execution_count": 56,
   "metadata": {},
   "outputs": [
    {
     "data": {
      "text/plain": [
       "[<matplotlib.lines.Line2D at 0x7f5f9998e4a8>]"
      ]
     },
     "execution_count": 56,
     "metadata": {},
     "output_type": "execute_result"
    },
    {
     "data": {
      "image/png": "[encoded data removed]",
      "text/plain": [
       "<Figure size 432x288 with 1 Axes>"
      ]
     },
     "metadata": {},
     "output_type": "display_data"
    }
   ],
   "source": [
    "plt.plot(test.wind_wrt_fly_diff.values)"
   ]
  },
  {
   "cell_type": "code",
   "execution_count": 42,
   "metadata": {},
   "outputs": [],
   "source": [
    "from sklearn.metrics import accuracy_score\n"
   ]
  },
  {
   "cell_type": "code",
   "execution_count": 62,
   "metadata": {},
   "outputs": [
    {
     "data": {
      "text/plain": [
       "[<matplotlib.lines.Line2D at 0x7f5f97b53668>]"
      ]
     },
     "execution_count": 62,
     "metadata": {},
     "output_type": "execute_result"
    },
    {
     "data": {
      "image/png": "[encoded data removed]",
      "text/plain": [
       "<Figure size 432x288 with 1 Axes>"
      ]
     },
     "metadata": {},
     "output_type": "display_data"
    }
   ],
   "source": [
    "plt.plot(test[(test.trajectory__case==2)].wind_wrt_fly_diff.values)"
   ]
  },
  {
   "cell_type": "code",
   "execution_count": 65,
   "metadata": {},
   "outputs": [
    {
     "data": {
      "text/plain": [
       "[<matplotlib.lines.Line2D at 0x7f5f97a60400>]"
      ]
     },
     "execution_count": 65,
     "metadata": {},
     "output_type": "execute_result"
    },
    {
     "data": {
      "image/png": "[encoded data removed]",
      "text/plain": [
       "<Figure size 432x288 with 1 Axes>"
      ]
     },
     "metadata": {},
     "output_type": "display_data"
    }
   ],
   "source": [
    "plt.plot(test[(test.trajectory__case==2)].trajectory__wbad.values)"
   ]
  },
  {
   "cell_type": "code",
   "execution_count": 66,
   "metadata": {},
   "outputs": [],
   "source": [
    "actual_x=test[(test.trajectory__runNum==6) & (test.trajectory__case==2)].wind_wrt_fly_normalized.values\n",
    "actual_y=test[(test.trajectory__runNum==6) & (test.trajectory__case==2)].wind_wrt_fly_diff.values"
   ]
  },
  {
   "cell_type": "code",
   "execution_count": 68,
   "metadata": {},
   "outputs": [],
   "source": [
    "y_predict=rf.predict(actual_x.reshape(-1,1))"
   ]
  },
  {
   "cell_type": "code",
   "execution_count": 69,
   "metadata": {},
   "outputs": [
    {
     "data": {
      "text/plain": [
       "[<matplotlib.lines.Line2D at 0x7f5f97a0b2e8>]"
      ]
     },
     "execution_count": 69,
     "metadata": {},
     "output_type": "execute_result"
    },
    {
     "data": {
      "image/png": "[encoded data removed]",
      "text/plain": [
       "<Figure size 432x288 with 1 Axes>"
      ]
     },
     "metadata": {},
     "output_type": "display_data"
    }
   ],
   "source": [
    "plt.plot(y_predict-actual_y)"
   ]
  },
  {
   "cell_type": "code",
   "execution_count": 70,
   "metadata": {},
   "outputs": [],
   "source": [
    "from sklearn.metrics import r2_score"
   ]
  },
  {
   "cell_type": "code",
   "execution_count": 73,
   "metadata": {},
   "outputs": [
    {
     "data": {
      "text/plain": [
       "-0.1891340739787759"
      ]
     },
     "execution_count": 73,
     "metadata": {},
     "output_type": "execute_result"
    }
   ],
   "source": [
    "r2_score(actual_y,y_predict)"
   ]
  },
  {
   "cell_type": "code",
   "execution_count": 72,
   "metadata": {},
   "outputs": [
    {
     "data": {
      "text/plain": [
       "(2396,)"
      ]
     },
     "execution_count": 72,
     "metadata": {},
     "output_type": "execute_result"
    }
   ],
   "source": [
    "actual_y.shape"
   ]
  },
  {
   "cell_type": "code",
   "execution_count": 74,
   "metadata": {},
   "outputs": [],
   "source": [
    "from sklearn.tree import export_graphviz"
   ]
  },
  {
   "cell_type": "code",
   "execution_count": 76,
   "metadata": {},
   "outputs": [],
   "source": [
    "est=rf.estimators_[1]"
   ]
  },
  {
   "cell_type": "code",
   "execution_count": 78,
   "metadata": {},
   "outputs": [
    {
     "ename": "KeyboardInterrupt",
     "evalue": "",
     "output_type": "error",
     "traceback": [
      "\u001b[0;31m---------------------------------------------------------------------------\u001b[0m",
      "\u001b[0;31mKeyboardInterrupt\u001b[0m                         Traceback (most recent call last)",
      "\u001b[0;32m<ipython-input-78-73cded3eea3d>\u001b[0m in \u001b[0;36m<module>\u001b[0;34m()\u001b[0m\n\u001b[1;32m     11\u001b[0m                )\n\u001b[1;32m     12\u001b[0m \u001b[0mgraph\u001b[0m \u001b[0;34m=\u001b[0m \u001b[0mpydotplus\u001b[0m\u001b[0;34m.\u001b[0m\u001b[0mgraph_from_dot_data\u001b[0m\u001b[0;34m(\u001b[0m\u001b[0mdot_data\u001b[0m\u001b[0;34m.\u001b[0m\u001b[0mgetvalue\u001b[0m\u001b[0;34m(\u001b[0m\u001b[0;34m)\u001b[0m\u001b[0;34m)\u001b[0m\u001b[0;34m\u001b[0m\u001b[0m\n\u001b[0;32m---> 13\u001b[0;31m \u001b[0mImage\u001b[0m\u001b[0;34m(\u001b[0m\u001b[0mgraph\u001b[0m\u001b[0;34m.\u001b[0m\u001b[0mcreate_png\u001b[0m\u001b[0;34m(\u001b[0m\u001b[0;34m)\u001b[0m\u001b[0;34m)\u001b[0m\u001b[0;34m\u001b[0m\u001b[0m\n\u001b[0m",
      "\u001b[0;32m~/anaconda3/lib/python3.6/site-packages/pydotplus/graphviz.py\u001b[0m in \u001b[0;36m<lambda>\u001b[0;34m(f, prog)\u001b[0m\n\u001b[1;32m   1795\u001b[0m             self.__setattr__(\n\u001b[1;32m   1796\u001b[0m                 \u001b[0;34m'create_'\u001b[0m \u001b[0;34m+\u001b[0m \u001b[0mfrmt\u001b[0m\u001b[0;34m,\u001b[0m\u001b[0;34m\u001b[0m\u001b[0m\n\u001b[0;32m-> 1797\u001b[0;31m                 \u001b[0;32mlambda\u001b[0m \u001b[0mf\u001b[0m\u001b[0;34m=\u001b[0m\u001b[0mfrmt\u001b[0m\u001b[0;34m,\u001b[0m \u001b[0mprog\u001b[0m\u001b[0;34m=\u001b[0m\u001b[0mself\u001b[0m\u001b[0;34m.\u001b[0m\u001b[0mprog\u001b[0m\u001b[0;34m:\u001b[0m \u001b[0mself\u001b[0m\u001b[0;34m.\u001b[0m\u001b[0mcreate\u001b[0m\u001b[0;34m(\u001b[0m\u001b[0mformat\u001b[0m\u001b[0;34m=\u001b[0m\u001b[0mf\u001b[0m\u001b[0;34m,\u001b[0m \u001b[0mprog\u001b[0m\u001b[0;34m=\u001b[0m\u001b[0mprog\u001b[0m\u001b[0;34m)\u001b[0m\u001b[0;34m\u001b[0m\u001b[0m\n\u001b[0m\u001b[1;32m   1798\u001b[0m             )\n\u001b[1;32m   1799\u001b[0m             \u001b[0mf\u001b[0m \u001b[0;34m=\u001b[0m \u001b[0mself\u001b[0m\u001b[0;34m.\u001b[0m\u001b[0m__dict__\u001b[0m\u001b[0;34m[\u001b[0m\u001b[0;34m'create_'\u001b[0m \u001b[0;34m+\u001b[0m \u001b[0mfrmt\u001b[0m\u001b[0;34m]\u001b[0m\u001b[0;34m\u001b[0m\u001b[0m\n",
      "\u001b[0;32m~/anaconda3/lib/python3.6/site-packages/pydotplus/graphviz.py\u001b[0m in \u001b[0;36mcreate\u001b[0;34m(self, prog, format)\u001b[0m\n\u001b[1;32m   2002\u001b[0m         \u001b[0mstdout_output\u001b[0m \u001b[0;34m=\u001b[0m \u001b[0mlist\u001b[0m\u001b[0;34m(\u001b[0m\u001b[0;34m)\u001b[0m\u001b[0;34m\u001b[0m\u001b[0m\n\u001b[1;32m   2003\u001b[0m         \u001b[0;32mwhile\u001b[0m \u001b[0;32mTrue\u001b[0m\u001b[0;34m:\u001b[0m\u001b[0;34m\u001b[0m\u001b[0m\n\u001b[0;32m-> 2004\u001b[0;31m             \u001b[0mdata\u001b[0m \u001b[0;34m=\u001b[0m \u001b[0mstdout\u001b[0m\u001b[0;34m.\u001b[0m\u001b[0mread\u001b[0m\u001b[0;34m(\u001b[0m\u001b[0;34m)\u001b[0m\u001b[0;34m\u001b[0m\u001b[0m\n\u001b[0m\u001b[1;32m   2005\u001b[0m             \u001b[0;32mif\u001b[0m \u001b[0;32mnot\u001b[0m \u001b[0mdata\u001b[0m\u001b[0;34m:\u001b[0m\u001b[0;34m\u001b[0m\u001b[0m\n\u001b[1;32m   2006\u001b[0m                 \u001b[0;32mbreak\u001b[0m\u001b[0;34m\u001b[0m\u001b[0m\n",
      "\u001b[0;31mKeyboardInterrupt\u001b[0m: "
     ]
    }
   ],
   "source": [
    "from sklearn.externals.six import StringIO  \n",
    "import pydotplus\n",
    "from IPython.display import Image\n",
    "\n",
    "dot_data = StringIO()\n",
    "export_graphviz(est,out_file=dot_data,\n",
    "                feature_names = [\"wind_wrt_fly_normalized\"],\n",
    "                class_names = [\"wind_wrt_fly_diff\"],\n",
    "                rounded = True, proportion = False, \n",
    "                precision = 2, filled = True\n",
    "               )\n",
    "graph = pydotplus.graph_from_dot_data(dot_data.getvalue())  \n",
    "Image(graph.create_png())"
   ]
  },
  {
   "cell_type": "code",
   "execution_count": null,
   "metadata": {},
   "outputs": [],
   "source": []
  }
 ],
 "metadata": {
  "kernelspec": {
   "display_name": "Python 3",
   "language": "python",
   "name": "python3"
  },
  "language_info": {
   "codemirror_mode": {
    "name": "ipython",
    "version": 3
   },
   "file_extension": ".py",
   "mimetype": "text/x-python",
   "name": "python",
   "nbconvert_exporter": "python",
   "pygments_lexer": "ipython3",
   "version": "3.6.5"
  }
 },
 "nbformat": 4,
 "nbformat_minor": 2
}

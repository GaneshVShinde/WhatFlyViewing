{
 "cells": [
  {
   "cell_type": "code",
   "execution_count": 1,
   "metadata": {},
   "outputs": [],
   "source": [
    "import numpy as np\n",
    "import pandas as pd\n",
    "import matplotlib.pyplot as plt\n",
    "import math"
   ]
  },
  {
   "cell_type": "code",
   "execution_count": 2,
   "metadata": {},
   "outputs": [],
   "source": [
    "from scipy.spatial.distance import euclidean\n",
    "from fastdtw import fastdtw"
   ]
  },
  {
   "cell_type": "code",
   "execution_count": 3,
   "metadata": {},
   "outputs": [],
   "source": [
    "import multiprocessing as mp\n",
    "pool = mp.Pool(mp.cpu_count())"
   ]
  },
  {
   "cell_type": "code",
   "execution_count": 3,
   "metadata": {},
   "outputs": [],
   "source": [
    "df=pd.read_hdf(\"all_wind.h5\")"
   ]
  },
  {
   "cell_type": "code",
   "execution_count": null,
   "metadata": {},
   "outputs": [],
   "source": []
  },
  {
   "cell_type": "code",
   "execution_count": 4,
   "metadata": {},
   "outputs": [],
   "source": [
    "def DTWDistance(s1, s2):\n",
    "    DTW={}\n",
    "    \n",
    "    for i in range(len(s1)):\n",
    "        DTW[(i, -1)] = float('inf')\n",
    "    for i in range(len(s2)):\n",
    "        DTW[(-1, i)] = float('inf')\n",
    "    DTW[(-1, -1)] = 0\n",
    "\n",
    "    for i in range(len(s1)):\n",
    "        for j in range(len(s2)):\n",
    "            dist= (s1[i]-s2[j])**2\n",
    "            DTW[(i, j)] = dist + min(DTW[(i-1, j)],DTW[(i, j-1)], DTW[(i-1, j-1)])\n",
    "    return np.sqrt(DTW[len(s1)-1, len(s2)-1])"
   ]
  },
  {
   "cell_type": "code",
   "execution_count": 5,
   "metadata": {},
   "outputs": [],
   "source": [
    "def LB_Keogh(s1,s2,r):\n",
    "    LB_sum=0\n",
    "    for ind,i in enumerate(s1):\n",
    "        \n",
    "        lower_bound=min(s2[(ind-r if ind-r>=0 else 0):(ind+r)])\n",
    "        upper_bound=max(s2[(ind-r if ind-r>=0 else 0):(ind+r)])\n",
    "        \n",
    "        if i>upper_bound:\n",
    "            LB_sum=LB_sum+(i-upper_bound)**2\n",
    "        elif i<lower_bound:\n",
    "            LB_sum=LB_sum+(i-lower_bound)**2\n",
    "    \n",
    "    return np.sqrt(LB_sum)"
   ]
  },
  {
   "cell_type": "code",
   "execution_count": 6,
   "metadata": {},
   "outputs": [],
   "source": [
    "def get_ts_visual_details():\n",
    "    return(df[df.visual==\"null\"].timeStamp.unique(),df[df.visual==\"grassSky\"].timeStamp.unique())"
   ]
  },
  {
   "cell_type": "code",
   "execution_count": 262,
   "metadata": {},
   "outputs": [],
   "source": [
    "def get_wbad_files(files):\n",
    "    case_dict={}\n",
    "    for file in files:\n",
    "        df2 =  df[df.timeStamp == file]\n",
    "        case=df2.trajectory__case.unique()\n",
    "        case_dict[file]={}\n",
    "        for c in case:\n",
    "            runs=df2[df2.trajectory__case==c].trajectory__runNum.unique()\n",
    "            for r in runs:\n",
    "                arr=df2[(df2.trajectory__runNum==r)&(df2.trajectory__case==c)].trajectory__pOri_x.values\n",
    "                if arr.shape[0]>0:\n",
    "                    case_dict[file][\"c_\"+str(int(c))+\"_\"+\"r_\"+str(int(r))]=arr\n",
    "    return case_dict\n"
   ]
  },
  {
   "cell_type": "code",
   "execution_count": 8,
   "metadata": {},
   "outputs": [],
   "source": [
    "def get_Dtw_matrix(file_dict):\n",
    "    ln =len(file_dict.keys())\n",
    "    mat_=np.zeros((ln,ln))\n",
    "    keys=[]\n",
    "    vals=[]\n",
    "    for k,v in  file_dict.items():\n",
    "        keys.append(k)\n",
    "        vals.append(v)\n",
    "    for r in range(ln):\n",
    "        for c in range(r+1,ln):\n",
    "            mat_[r,c],_=fastdtw(vals[r],vals[c],dist=euclidean)\n",
    "            mat_[c,r]=mat_[r,c]\n",
    "    \n",
    "    return(mat_,keys)"
   ]
  },
  {
   "cell_type": "code",
   "execution_count": 271,
   "metadata": {},
   "outputs": [],
   "source": [
    "def visualize_matrix(mat,keys,folder_to_save,title=\"\",\n",
    "                     is_num=False,iterpolation=\"spline36\",slice_mat=0):\n",
    "    fig = plt.figure(figsize=(25,25))\n",
    "    ax = fig.add_subplot(111)\n",
    "    #visualize_matrix(vals,c,key)\n",
    "    #print(mat)\n",
    "    min_=mat.min()\n",
    "    mat=((mat-min_)/(mat.max()-min_))*100\n",
    "    mat_=mat[slice_mat:,slice_mat:]\n",
    "    cax = ax.matshow(mat_,interpolation=iterpolation,vmin=0,vmax=100)\n",
    "    fig.colorbar(cax)\n",
    "    ticks = np.arange(0,mat_.shape[0],1)\n",
    "    ax.set_xticks(ticks)\n",
    "    ax.set_yticks(ticks)\n",
    "    ax.set_xticklabels(keys[slice_mat:],fontsize=20,rotation=90)\n",
    "    ax.set_yticklabels(keys[slice_mat:],fontsize=20)\n",
    "    if is_num:\n",
    "        for i in range(mat_.shape[0]):\n",
    "            for j in range(mat_.shape[0]):\n",
    "                c = mat_[j,i]\n",
    "                ax.text(i, j, str(c)[:3], fontsize=22,va='center', ha='center')\n",
    "    plt.text(0, -3,title,fontsize=\"xx-large\")\n",
    "    fig.savefig(folder_to_save+\"/\"+title+\".jpeg\",bbox_inches = 'tight')\n",
    "    plt.close()"
   ]
  },
  {
   "cell_type": "code",
   "execution_count": 243,
   "metadata": {},
   "outputs": [],
   "source": [
    "def get_windPressure(file):\n",
    "    return(df[df.timeStamp==file].windPressure.unique()[0])"
   ]
  },
  {
   "cell_type": "code",
   "execution_count": null,
   "metadata": {},
   "outputs": [],
   "source": [
    "def plot_matrix(times):"
   ]
  },
  {
   "cell_type": "code",
   "execution_count": 238,
   "metadata": {},
   "outputs": [],
   "source": [
    "def get_run_indices(lst_nuls):\n",
    "    get_nl_fl_trajectory={}\n",
    "    for file in lst_nuls: #for each file\n",
    "        df2 = df[df.timeStamp==file]\n",
    "        case_s = df2.trajectory__case.unique()\n",
    "        get_nl_fl_trajectory[file]=[]\n",
    "        for case in case_s:\n",
    "            df3=df2[df2.trajectory__case==case]\n",
    "            if(df3.shape[0] >0):\n",
    "                get_nl_fl_trajectory[file].append(\n",
    "                    len(df3.trajectory__runNum.unique()))\n",
    "    return(get_nl_fl_trajectory)"
   ]
  },
  {
   "cell_type": "code",
   "execution_count": 10,
   "metadata": {},
   "outputs": [],
   "source": [
    "nuls,grassSky=get_ts_visual_details()"
   ]
  },
  {
   "cell_type": "code",
   "execution_count": 152,
   "metadata": {},
   "outputs": [],
   "source": [
    "lst_nuls=['2018-03-30__14~13~06', '2018-01-17__12~12~40',\n",
    "       '2018-01-17__12~32~54', '2018-03-28__15~56~32',\n",
    "       '2018-03-28__15~49~36', '2018-03-30__14~33~21']\n",
    "\n",
    "nuls_remaining=[]\n",
    "\n",
    "for s in nuls:\n",
    "    if s not in lst_nuls:\n",
    "        nuls_remaining.append(s)\n"
   ]
  },
  {
   "cell_type": "code",
   "execution_count": null,
   "metadata": {},
   "outputs": [],
   "source": []
  },
  {
   "cell_type": "code",
   "execution_count": 154,
   "metadata": {},
   "outputs": [],
   "source": [
    "lst_grassSky=['2018-01-17__14~43~47','2018-01-17__14~38~15',\n",
    "              '2018-01-24__20~54~18','2018-01-24__20~20~12',\n",
    "              '2018-01-24__20~36~56','2018-01-17__19~54~53',\n",
    "              '2018-01-17__20~13~09']\n",
    "\n",
    "grassSky_remaining = []\n",
    "\n",
    "for s in grassSky:\n",
    "    if s not in lst_grassSky:\n",
    "        grassSky_remaining.append(s)"
   ]
  },
  {
   "cell_type": "code",
   "execution_count": null,
   "metadata": {},
   "outputs": [],
   "source": []
  },
  {
   "cell_type": "code",
   "execution_count": 164,
   "metadata": {},
   "outputs": [],
   "source": [
    "#nuls_dict=get_wbad_files(lst_nuls)\n",
    "nuls_remaining_dict=get_wbad_files(nuls_remaining)"
   ]
  },
  {
   "cell_type": "code",
   "execution_count": 165,
   "metadata": {},
   "outputs": [],
   "source": [
    "nuls_vals=[vals for _,vals in nuls_dict.items()]\n",
    "nuls_vals_remaining=[vals for _,vals in nuls_remaining_dict.items()]"
   ]
  },
  {
   "cell_type": "code",
   "execution_count": 166,
   "metadata": {},
   "outputs": [],
   "source": [
    "#nuls_mat=pool.map(get_Dtw_matrix, nuls_vals)\n",
    "nuls_mat_remaining=pool.map(get_Dtw_matrix, nuls_vals_remaining)"
   ]
  },
  {
   "cell_type": "code",
   "execution_count": null,
   "metadata": {},
   "outputs": [],
   "source": []
  },
  {
   "cell_type": "code",
   "execution_count": 22,
   "metadata": {},
   "outputs": [],
   "source": [
    "import pickle\n",
    "filehandler = open(\"nuls_mat.dbt\", 'wb+') \n",
    "pickle.dump(nuls_mat, filehandler)"
   ]
  },
  {
   "cell_type": "code",
   "execution_count": 24,
   "metadata": {},
   "outputs": [],
   "source": []
  },
  {
   "cell_type": "code",
   "execution_count": 138,
   "metadata": {},
   "outputs": [],
   "source": [
    "grassSky_dat=get_wbad_files(lst_grassSky)\n",
    "grassSky_vals=[vals for _,vals in grassSky_dat.items()] "
   ]
  },
  {
   "cell_type": "code",
   "execution_count": 188,
   "metadata": {},
   "outputs": [],
   "source": [
    "grassSky_dat_remaining=get_wbad_files(grassSky_remaining)\n",
    "grassSky_vals_remaining=[vals for _,vals in grassSky_dat_remaining.items()] "
   ]
  },
  {
   "cell_type": "code",
   "execution_count": 189,
   "metadata": {},
   "outputs": [],
   "source": [
    "#grassSky_mat=pool.map(get_Dtw_matrix, grassSky_vals)\n",
    "grassSky_mat_remaining=pool.map(get_Dtw_matrix, grassSky_vals_remaining)"
   ]
  },
  {
   "cell_type": "code",
   "execution_count": null,
   "metadata": {},
   "outputs": [],
   "source": [
    "def get_runs_map(file):\n",
    "    "
   ]
  },
  {
   "cell_type": "code",
   "execution_count": 233,
   "metadata": {},
   "outputs": [],
   "source": []
  },
  {
   "cell_type": "code",
   "execution_count": 30,
   "metadata": {},
   "outputs": [
    {
     "data": {
      "text/plain": [
       "{'2018-03-30__14~13~06': [6, 5, 5, 5],\n",
       " '2018-01-17__12~12~40': [7, 6, 6, 6],\n",
       " '2018-01-17__12~32~54': [6, 5, 5, 5],\n",
       " '2018-03-28__15~56~32': [7, 6, 6, 6],\n",
       " '2018-03-28__15~49~36': [7, 6, 6, 6],\n",
       " '2018-03-30__14~33~21': [6, 5, 5, 5]}"
      ]
     },
     "execution_count": 30,
     "metadata": {},
     "output_type": "execute_result"
    }
   ],
   "source": [
    "get_nl_fl_trajectory"
   ]
  },
  {
   "cell_type": "code",
   "execution_count": 31,
   "metadata": {},
   "outputs": [],
   "source": [
    "get_grass_fl_trajectory={}\n",
    "for file in lst_grassSky: #for each file\n",
    "    df2 = df[df.timeStamp==file]\n",
    "    case_s = df2.trajectory__case.unique()\n",
    "    get_grass_fl_trajectory[file]=[]\n",
    "    for case in case_s:\n",
    "        df3=df2[df2.trajectory__case==case]\n",
    "        if(df3.shape[0] >0):\n",
    "            get_grass_fl_trajectory[file].append(len(df3.trajectory__runNum.unique()))"
   ]
  },
  {
   "cell_type": "code",
   "execution_count": 33,
   "metadata": {},
   "outputs": [
    {
     "data": {
      "text/plain": [
       "{'2018-01-17__14~43~47': [7, 7, 6, 6],\n",
       " '2018-01-17__14~38~15': [6, 5, 5, 5],\n",
       " '2018-01-24__20~54~18': [7, 6, 6, 6],\n",
       " '2018-01-24__20~20~12': [7, 6, 6, 6],\n",
       " '2018-01-24__20~36~56': [8, 7, 7, 7],\n",
       " '2018-01-17__19~54~53': [9, 8, 8, 8],\n",
       " '2018-01-17__20~13~09': [9, 8, 8, 8]}"
      ]
     },
     "execution_count": 33,
     "metadata": {},
     "output_type": "execute_result"
    }
   ],
   "source": [
    "get_grass_fl_trajectory"
   ]
  },
  {
   "cell_type": "code",
   "execution_count": 42,
   "metadata": {},
   "outputs": [],
   "source": [
    "end_=np.cumsum(get_grass_fl_trajectory['2018-01-17__14~43~47'])"
   ]
  },
  {
   "cell_type": "code",
   "execution_count": 113,
   "metadata": {},
   "outputs": [],
   "source": [
    "def get_score_matrix(mat,end_):\n",
    "    end_=np.cumsum(end_)\n",
    "    st=0\n",
    "    c=np.zeros((4,4))\n",
    "    for i in range(4):\n",
    "        if i != 0:\n",
    "            st = end_[i-1]\n",
    "        r_s = st\n",
    "        r_e = end_[i]\n",
    "        for j in range(i,4):\n",
    "            if j==0:\n",
    "                c_s = st\n",
    "                c_e = end_[j]\n",
    "            else:\n",
    "                c_s=end_[j-1]\n",
    "                c_e=end_[j]\n",
    "            if(i==j):\n",
    "                mat_=mat[r_s:r_e,c_s:c_e]\n",
    "                non_diag_mask = ~np.eye(mat_.shape[0],dtype=bool)\n",
    "                c[i,j]=np.mean(mat_[non_diag_mask])\n",
    "            else:\n",
    "                c[i,j]=np.mean(mat[r_s:r_e,c_s:c_e])\n",
    "                c[j,i]=c[i,j]\n",
    "            #print(i,\"-->\",j,np.mean(mat[r_s:r_e,c_s:c_e]))\n",
    "    #print(c)\n",
    "    return(c)\n",
    "            \n",
    "            "
   ]
  },
  {
   "cell_type": "code",
   "execution_count": 114,
   "metadata": {},
   "outputs": [],
   "source": [
    "grass_sky_score={}\n",
    "for i,val in enumerate(grassSky_mat):\n",
    "    grass_sky_score[lst_grassSky[i]]=get_score_matrix(val[0],get_grass_fl_trajectory[lst_grassSky[i]])"
   ]
  },
  {
   "cell_type": "code",
   "execution_count": 121,
   "metadata": {},
   "outputs": [
    {
     "data": {
      "text/plain": [
       "23.972441408549876"
      ]
     },
     "execution_count": 121,
     "metadata": {},
     "output_type": "execute_result"
    }
   ],
   "source": [
    "# nuls_score={}\n",
    "# for i,val in enumerate(nuls_mat):\n",
    "#     nuls_score[lst_nuls[i]]=get_score_matrix(val[0],get_nl_fl_trajectory[lst_nuls[i]])\n",
    "grass_sky_score['2018-01-17__14~38~15'][1,1]"
   ]
  },
  {
   "cell_type": "code",
   "execution_count": 146,
   "metadata": {},
   "outputs": [],
   "source": [
    "# grass_sky_score={}\n",
    "# for i,val in enumerate(grassSky_mat):\n",
    "#     grass_sky_score[lst_grassSky[i]]=get_score_matrix(val[0],get_grass_fl_trajectory[lst_grassSky[i]])\n",
    "\n",
    "# keys= [str(i) for i in range(4) ]\n",
    "# for title,mat_ in grass_sky_score.items():\n",
    "#     visualize_matrix(mat_,keys,title)"
   ]
  },
  {
   "cell_type": "code",
   "execution_count": 183,
   "metadata": {},
   "outputs": [],
   "source": [
    "nuls_mat.extend(nuls_mat_remaining)\n",
    "lst_nuls.extend(nuls_remaining)\n",
    "for i,val in enumerate(nuls_mat):\n",
    "    wind=ge_windPressure(lst_nuls[i])\n",
    "    file_to_store=\"heat_plots/null\"\n",
    "    title=\"W_\"+wind+\"_\"+lst_nuls[i]\n",
    "    visualize_matrix(val[0],val[1],file_to_store,title)"
   ]
  },
  {
   "cell_type": "code",
   "execution_count": 184,
   "metadata": {},
   "outputs": [],
   "source": [
    "file_to_store=\"heat_plots/null_num\"\n",
    "for i,val in enumerate(nuls_mat):\n",
    "    wind=ge_windPressure(lst_nuls[i])\n",
    "    title=\"W_\"+wind+\"_\"+lst_nuls[i]\n",
    "    visualize_matrix(val[0],val[1],file_to_store,title,is_num=True,iterpolation='nearest')"
   ]
  },
  {
   "cell_type": "code",
   "execution_count": 185,
   "metadata": {},
   "outputs": [],
   "source": [
    "filehandler = open(\"heat_plots/nuls_mat.dbt\", 'wb+') \n",
    "pickle.dump({\"mat\":nuls_mat,\"label\":lst_nuls}, filehandler)"
   ]
  },
  {
   "cell_type": "code",
   "execution_count": 272,
   "metadata": {},
   "outputs": [],
   "source": [
    "#grassSky_mat.extend(grassSky_mat_remaining)\n",
    "#lst_grassSky.extend(grassSky_remaining)\n",
    "for i,val in enumerate(grassSky_mat):\n",
    "    ind=run_indices[lst_grassSky[i]][0]\n",
    "    wind=ge_windPressure(lst_grassSky[i])\n",
    "    file_to_store=\"heat_plots/grass_Sky_c_1_3\"\n",
    "    title=\"W_\"+wind+\"_\"+lst_grassSky[i]\n",
    "    visualize_matrix(val[0],val[1],file_to_store,title,slice_mat=ind)"
   ]
  },
  {
   "cell_type": "code",
   "execution_count": 269,
   "metadata": {},
   "outputs": [
    {
     "data": {
      "text/plain": [
       "[7, 7, 6, 6]"
      ]
     },
     "execution_count": 269,
     "metadata": {},
     "output_type": "execute_result"
    }
   ],
   "source": [
    "ind"
   ]
  },
  {
   "cell_type": "code",
   "execution_count": 187,
   "metadata": {},
   "outputs": [],
   "source": [
    "filehandler = open(\"heat_plots/grassSky_mat.dbt\", 'wb+') \n",
    "pickle.dump({\"mat\":grassSky_mat,\"label\":lst_grassSky}, filehandler)"
   ]
  },
  {
   "cell_type": "code",
   "execution_count": 191,
   "metadata": {},
   "outputs": [],
   "source": [
    "case_dicts=get_wbad_files(['2018-01-24__20~36~56','2018-01-17__19~54~53'])"
   ]
  },
  {
   "cell_type": "code",
   "execution_count": 222,
   "metadata": {},
   "outputs": [
    {
     "data": {
      "text/plain": [
       "[<matplotlib.lines.Line2D at 0x7f829ed48208>]"
      ]
     },
     "execution_count": 222,
     "metadata": {},
     "output_type": "execute_result"
    },
    {
     "data": {
      "image/png": "[encoded data removed]",
      "text/plain": [
       "<Figure size 432x288 with 1 Axes>"
      ]
     },
     "metadata": {},
     "output_type": "display_data"
    }
   ],
   "source": [
    "plt.plot(case_dicts['2018-01-24__20~36~56']['c_0_r_1']%360)\n",
    "plt.plot(case_dicts['2018-01-24__20~36~56']['c_0_r_2']%360)\n",
    "plt.plot(case_dicts['2018-01-24__20~36~56']['c_0_r_3']%360)\n",
    "plt.plot(case_dicts['2018-01-24__20~36~56']['c_0_r_4']%360)\n",
    "plt.plot(case_dicts['2018-01-24__20~36~56']['c_0_r_5']%360)"
   ]
  },
  {
   "cell_type": "code",
   "execution_count": 226,
   "metadata": {},
   "outputs": [
    {
     "data": {
      "text/plain": [
       "[<matplotlib.lines.Line2D at 0x7f82b5132a58>]"
      ]
     },
     "execution_count": 226,
     "metadata": {},
     "output_type": "execute_result"
    },
    {
     "data": {
      "image/png": "[encoded data removed]",
      "text/plain": [
       "<Figure size 432x288 with 1 Axes>"
      ]
     },
     "metadata": {},
     "output_type": "display_data"
    }
   ],
   "source": [
    "plt.plot((case_dicts['2018-01-24__20~36~56']['c_1_r_1']%360)[84:300])\n",
    "plt.plot((case_dicts['2018-01-24__20~36~56']['c_1_r_2']%360)[84:300])\n",
    "plt.plot((case_dicts['2018-01-24__20~36~56']['c_1_r_3']%360)[84:300])\n",
    "plt.plot((case_dicts['2018-01-24__20~36~56']['c_1_r_4']%360)[84:300])"
   ]
  },
  {
   "cell_type": "code",
   "execution_count": 263,
   "metadata": {},
   "outputs": [],
   "source": [
    "grassSky_dat=get_wbad_files(lst_grassSky)\n",
    "grassSky_vals=[vals for _,vals in grassSky_dat.items()] "
   ]
  },
  {
   "cell_type": "code",
   "execution_count": 273,
   "metadata": {},
   "outputs": [
    {
     "ename": "KeyboardInterrupt",
     "evalue": "",
     "output_type": "error",
     "traceback": [
      "\u001b[0;31m---------------------------------------------------------------------------\u001b[0m",
      "\u001b[0;31mKeyboardInterrupt\u001b[0m                         Traceback (most recent call last)",
      "\u001b[0;32m<ipython-input-273-e14d21caa72f>\u001b[0m in \u001b[0;36m<module>\u001b[0;34m()\u001b[0m\n\u001b[0;32m----> 1\u001b[0;31m \u001b[0mgrassSky_mat\u001b[0m\u001b[0;34m=\u001b[0m\u001b[0mpool\u001b[0m\u001b[0;34m.\u001b[0m\u001b[0mmap\u001b[0m\u001b[0;34m(\u001b[0m\u001b[0mget_Dtw_matrix\u001b[0m\u001b[0;34m,\u001b[0m \u001b[0mgrassSky_vals\u001b[0m\u001b[0;34m)\u001b[0m\u001b[0;34m\u001b[0m\u001b[0m\n\u001b[0m",
      "\u001b[0;32m~/anaconda3/lib/python3.6/multiprocessing/pool.py\u001b[0m in \u001b[0;36mmap\u001b[0;34m(self, func, iterable, chunksize)\u001b[0m\n\u001b[1;32m    264\u001b[0m         \u001b[0;32min\u001b[0m \u001b[0ma\u001b[0m \u001b[0mlist\u001b[0m \u001b[0mthat\u001b[0m \u001b[0;32mis\u001b[0m \u001b[0mreturned\u001b[0m\u001b[0;34m.\u001b[0m\u001b[0;34m\u001b[0m\u001b[0m\n\u001b[1;32m    265\u001b[0m         '''\n\u001b[0;32m--> 266\u001b[0;31m         \u001b[0;32mreturn\u001b[0m \u001b[0mself\u001b[0m\u001b[0;34m.\u001b[0m\u001b[0m_map_async\u001b[0m\u001b[0;34m(\u001b[0m\u001b[0mfunc\u001b[0m\u001b[0;34m,\u001b[0m \u001b[0miterable\u001b[0m\u001b[0;34m,\u001b[0m \u001b[0mmapstar\u001b[0m\u001b[0;34m,\u001b[0m \u001b[0mchunksize\u001b[0m\u001b[0;34m)\u001b[0m\u001b[0;34m.\u001b[0m\u001b[0mget\u001b[0m\u001b[0;34m(\u001b[0m\u001b[0;34m)\u001b[0m\u001b[0;34m\u001b[0m\u001b[0m\n\u001b[0m\u001b[1;32m    267\u001b[0m \u001b[0;34m\u001b[0m\u001b[0m\n\u001b[1;32m    268\u001b[0m     \u001b[0;32mdef\u001b[0m \u001b[0mstarmap\u001b[0m\u001b[0;34m(\u001b[0m\u001b[0mself\u001b[0m\u001b[0;34m,\u001b[0m \u001b[0mfunc\u001b[0m\u001b[0;34m,\u001b[0m \u001b[0miterable\u001b[0m\u001b[0;34m,\u001b[0m \u001b[0mchunksize\u001b[0m\u001b[0;34m=\u001b[0m\u001b[0;32mNone\u001b[0m\u001b[0;34m)\u001b[0m\u001b[0;34m:\u001b[0m\u001b[0;34m\u001b[0m\u001b[0m\n",
      "\u001b[0;32m~/anaconda3/lib/python3.6/multiprocessing/pool.py\u001b[0m in \u001b[0;36mget\u001b[0;34m(self, timeout)\u001b[0m\n\u001b[1;32m    636\u001b[0m \u001b[0;34m\u001b[0m\u001b[0m\n\u001b[1;32m    637\u001b[0m     \u001b[0;32mdef\u001b[0m \u001b[0mget\u001b[0m\u001b[0;34m(\u001b[0m\u001b[0mself\u001b[0m\u001b[0;34m,\u001b[0m \u001b[0mtimeout\u001b[0m\u001b[0;34m=\u001b[0m\u001b[0;32mNone\u001b[0m\u001b[0;34m)\u001b[0m\u001b[0;34m:\u001b[0m\u001b[0;34m\u001b[0m\u001b[0m\n\u001b[0;32m--> 638\u001b[0;31m         \u001b[0mself\u001b[0m\u001b[0;34m.\u001b[0m\u001b[0mwait\u001b[0m\u001b[0;34m(\u001b[0m\u001b[0mtimeout\u001b[0m\u001b[0;34m)\u001b[0m\u001b[0;34m\u001b[0m\u001b[0m\n\u001b[0m\u001b[1;32m    639\u001b[0m         \u001b[0;32mif\u001b[0m \u001b[0;32mnot\u001b[0m \u001b[0mself\u001b[0m\u001b[0;34m.\u001b[0m\u001b[0mready\u001b[0m\u001b[0;34m(\u001b[0m\u001b[0;34m)\u001b[0m\u001b[0;34m:\u001b[0m\u001b[0;34m\u001b[0m\u001b[0m\n\u001b[1;32m    640\u001b[0m             \u001b[0;32mraise\u001b[0m \u001b[0mTimeoutError\u001b[0m\u001b[0;34m\u001b[0m\u001b[0m\n",
      "\u001b[0;32m~/anaconda3/lib/python3.6/multiprocessing/pool.py\u001b[0m in \u001b[0;36mwait\u001b[0;34m(self, timeout)\u001b[0m\n\u001b[1;32m    633\u001b[0m \u001b[0;34m\u001b[0m\u001b[0m\n\u001b[1;32m    634\u001b[0m     \u001b[0;32mdef\u001b[0m \u001b[0mwait\u001b[0m\u001b[0;34m(\u001b[0m\u001b[0mself\u001b[0m\u001b[0;34m,\u001b[0m \u001b[0mtimeout\u001b[0m\u001b[0;34m=\u001b[0m\u001b[0;32mNone\u001b[0m\u001b[0;34m)\u001b[0m\u001b[0;34m:\u001b[0m\u001b[0;34m\u001b[0m\u001b[0m\n\u001b[0;32m--> 635\u001b[0;31m         \u001b[0mself\u001b[0m\u001b[0;34m.\u001b[0m\u001b[0m_event\u001b[0m\u001b[0;34m.\u001b[0m\u001b[0mwait\u001b[0m\u001b[0;34m(\u001b[0m\u001b[0mtimeout\u001b[0m\u001b[0;34m)\u001b[0m\u001b[0;34m\u001b[0m\u001b[0m\n\u001b[0m\u001b[1;32m    636\u001b[0m \u001b[0;34m\u001b[0m\u001b[0m\n\u001b[1;32m    637\u001b[0m     \u001b[0;32mdef\u001b[0m \u001b[0mget\u001b[0m\u001b[0;34m(\u001b[0m\u001b[0mself\u001b[0m\u001b[0;34m,\u001b[0m \u001b[0mtimeout\u001b[0m\u001b[0;34m=\u001b[0m\u001b[0;32mNone\u001b[0m\u001b[0;34m)\u001b[0m\u001b[0;34m:\u001b[0m\u001b[0;34m\u001b[0m\u001b[0m\n",
      "\u001b[0;32m~/anaconda3/lib/python3.6/threading.py\u001b[0m in \u001b[0;36mwait\u001b[0;34m(self, timeout)\u001b[0m\n\u001b[1;32m    549\u001b[0m             \u001b[0msignaled\u001b[0m \u001b[0;34m=\u001b[0m \u001b[0mself\u001b[0m\u001b[0;34m.\u001b[0m\u001b[0m_flag\u001b[0m\u001b[0;34m\u001b[0m\u001b[0m\n\u001b[1;32m    550\u001b[0m             \u001b[0;32mif\u001b[0m \u001b[0;32mnot\u001b[0m \u001b[0msignaled\u001b[0m\u001b[0;34m:\u001b[0m\u001b[0;34m\u001b[0m\u001b[0m\n\u001b[0;32m--> 551\u001b[0;31m                 \u001b[0msignaled\u001b[0m \u001b[0;34m=\u001b[0m \u001b[0mself\u001b[0m\u001b[0;34m.\u001b[0m\u001b[0m_cond\u001b[0m\u001b[0;34m.\u001b[0m\u001b[0mwait\u001b[0m\u001b[0;34m(\u001b[0m\u001b[0mtimeout\u001b[0m\u001b[0;34m)\u001b[0m\u001b[0;34m\u001b[0m\u001b[0m\n\u001b[0m\u001b[1;32m    552\u001b[0m             \u001b[0;32mreturn\u001b[0m \u001b[0msignaled\u001b[0m\u001b[0;34m\u001b[0m\u001b[0m\n\u001b[1;32m    553\u001b[0m \u001b[0;34m\u001b[0m\u001b[0m\n",
      "\u001b[0;32m~/anaconda3/lib/python3.6/threading.py\u001b[0m in \u001b[0;36mwait\u001b[0;34m(self, timeout)\u001b[0m\n\u001b[1;32m    293\u001b[0m         \u001b[0;32mtry\u001b[0m\u001b[0;34m:\u001b[0m    \u001b[0;31m# restore state no matter what (e.g., KeyboardInterrupt)\u001b[0m\u001b[0;34m\u001b[0m\u001b[0m\n\u001b[1;32m    294\u001b[0m             \u001b[0;32mif\u001b[0m \u001b[0mtimeout\u001b[0m \u001b[0;32mis\u001b[0m \u001b[0;32mNone\u001b[0m\u001b[0;34m:\u001b[0m\u001b[0;34m\u001b[0m\u001b[0m\n\u001b[0;32m--> 295\u001b[0;31m                 \u001b[0mwaiter\u001b[0m\u001b[0;34m.\u001b[0m\u001b[0macquire\u001b[0m\u001b[0;34m(\u001b[0m\u001b[0;34m)\u001b[0m\u001b[0;34m\u001b[0m\u001b[0m\n\u001b[0m\u001b[1;32m    296\u001b[0m                 \u001b[0mgotit\u001b[0m \u001b[0;34m=\u001b[0m \u001b[0;32mTrue\u001b[0m\u001b[0;34m\u001b[0m\u001b[0m\n\u001b[1;32m    297\u001b[0m             \u001b[0;32melse\u001b[0m\u001b[0;34m:\u001b[0m\u001b[0;34m\u001b[0m\u001b[0m\n",
      "\u001b[0;31mKeyboardInterrupt\u001b[0m: "
     ]
    }
   ],
   "source": [
    "grassSky_mat=pool.map(get_Dtw_matrix, grassSky_vals)"
   ]
  },
  {
   "cell_type": "code",
   "execution_count": 231,
   "metadata": {},
   "outputs": [],
   "source": [
    "# for i,val in enumerate(grassSky_mat):\n",
    "#     wind=ge_windPressure(lst_grassSky[i])\n",
    "#     file_to_store=\"heat_plots/grassSky_partial\"\n",
    "#     title=\"W_\"+wind+\"_\"+lst_grassSky[i]\n",
    "#     visualize_matrix(val[0],val[1],file_to_store,title)"
   ]
  },
  {
   "cell_type": "code",
   "execution_count": 239,
   "metadata": {},
   "outputs": [],
   "source": [
    "#for key,val \n",
    "run_indices=get_run_indices(lst_grassSky)"
   ]
  },
  {
   "cell_type": "code",
   "execution_count": 241,
   "metadata": {},
   "outputs": [
    {
     "data": {
      "text/plain": [
       "[7, 7, 6, 6]"
      ]
     },
     "execution_count": 241,
     "metadata": {},
     "output_type": "execute_result"
    }
   ],
   "source": [
    "run_indices[lst_grassSky[0]]"
   ]
  },
  {
   "cell_type": "code",
   "execution_count": 264,
   "metadata": {},
   "outputs": [],
   "source": [
    "for k,v in grassSky_dat.items():\n",
    "    #upTo_count=np.cumsum(run_indices[k])\n",
    "    wind=get_windPressure(k)\n",
    "    fig=plt.figure(figsize=(12,20))\n",
    "    title = \"W_\"+str(wind)+\"_\"+k+\".jpeg\"\n",
    "    flag=-1\n",
    "    count=0\n",
    "    for k_,v_ in v.items():\n",
    "        if flag-int(k_[2])!=0:\n",
    "            \n",
    "            count += 1\n",
    "            ax=plt.subplot(4,1,count)\n",
    "            ax.title.set_text(\"Case: \"+str(count-1))\n",
    "            flag=int(k_[2])\n",
    "        plt.plot(v_,label=k_)\n",
    "    #plt.text(0, -3,title,fontsize=\"xx-large\")\n",
    "    fig.savefig(\"heat_plots/time_series_grassSky/\"+title+\".jpeg\",bbox_inches = 'tight')\n",
    "    plt.close()"
   ]
  },
  {
   "cell_type": "code",
   "execution_count": 248,
   "metadata": {},
   "outputs": [
    {
     "data": {
      "text/plain": [
       "[<matplotlib.lines.Line2D at 0x7f829cabb978>]"
      ]
     },
     "execution_count": 248,
     "metadata": {},
     "output_type": "execute_result"
    },
    {
     "data": {
      "image/png": "[encoded data removed]",
      "text/plain": [
       "<Figure size 432x288 with 1 Axes>"
      ]
     },
     "metadata": {},
     "output_type": "display_data"
    }
   ],
   "source": [
    "plt.plot(v_)"
   ]
  },
  {
   "cell_type": "code",
   "execution_count": null,
   "metadata": {},
   "outputs": [],
   "source": []
  }
 ],
 "metadata": {
  "kernelspec": {
   "display_name": "Python 3",
   "language": "python",
   "name": "python3"
  },
  "language_info": {
   "codemirror_mode": {
    "name": "ipython",
    "version": 3
   },
   "file_extension": ".py",
   "mimetype": "text/x-python",
   "name": "python",
   "nbconvert_exporter": "python",
   "pygments_lexer": "ipython3",
   "version": "3.6.5"
  }
 },
 "nbformat": 4,
 "nbformat_minor": 2
}
